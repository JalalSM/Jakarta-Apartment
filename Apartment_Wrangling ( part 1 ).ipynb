{
 "cells": [
  {
   "cell_type": "code",
   "execution_count": 694,
   "id": "dfb5b678-63c4-44f9-b171-8182ba44a9f7",
   "metadata": {},
   "outputs": [],
   "source": [
    "import pandas as pd\n",
    "import numpy as np\n",
    "import matplotlib.pyplot as plt\n",
    "import seaborn as sns\n",
    "import warnings\n",
    "from matplotlib.pyplot import rcParams\n",
    "warnings.filterwarnings('ignore')"
   ]
  },
  {
   "cell_type": "code",
   "execution_count": 695,
   "id": "b6dcf681-cd3b-440f-898a-b38118fb75ad",
   "metadata": {},
   "outputs": [],
   "source": [
    "pd.set_option('display.max_columns',100)\n",
    "rcParams['axes.grid'] = True\n",
    "rcParams['axes.spines.right'] = False\n",
    "rcParams['axes.spines.top'] = False"
   ]
  },
  {
   "cell_type": "code",
   "execution_count": 696,
   "id": "69b61468-4a45-4fa8-b456-ae1394ca57c4",
   "metadata": {},
   "outputs": [],
   "source": [
    "df1 = pd.read_csv(\"D:/Data/apartment/apartment.csv\")\n",
    "df2 = pd.read_csv(\"D:/Data/apartment/apartment (1).csv\")\n",
    "df4 = pd.read_csv('D:/Data/apartment/apartment (2).csv')"
   ]
  },
  {
   "cell_type": "code",
   "execution_count": 697,
   "id": "8d89f0c0-6627-44d0-b0e4-fccf426694f2",
   "metadata": {},
   "outputs": [],
   "source": [
    "df3 = pd.concat([df1,df2,df4]).reset_index(drop=True)"
   ]
  },
  {
   "cell_type": "markdown",
   "id": "f920fb65-4d21-4573-b988-2824eb2820c9",
   "metadata": {},
   "source": [
    "# Cleaning Data"
   ]
  },
  {
   "cell_type": "code",
   "execution_count": 698,
   "id": "c83df459-8e29-4f59-ae18-53aeb520a218",
   "metadata": {},
   "outputs": [],
   "source": [
    "df3 = df3.drop(['web-scraper-order','web-scraper-start-url','facilities'],axis=1,errors='ignore').rename({'link':'unit_name'},axis=1)\n",
    "# put jabodetabek only"
   ]
  },
  {
   "cell_type": "markdown",
   "id": "8919b9e0-0cdb-4f5f-afb0-9d116cda9b44",
   "metadata": {},
   "source": [
    "## Breakdown unit facilities and apartment facilities"
   ]
  },
  {
   "cell_type": "code",
   "execution_count": 699,
   "id": "42185952-9ef9-4fb0-b85e-e84dc98dfb8a",
   "metadata": {},
   "outputs": [],
   "source": [
    "df3.dropna(inplace=True)"
   ]
  },
  {
   "cell_type": "code",
   "execution_count": 700,
   "id": "0849a672-b3ef-4531-a4e2-6b97f38d238c",
   "metadata": {},
   "outputs": [
    {
     "data": {
      "text/plain": [
       "array([['ATMBasket Ball CourtCable TVFunction RoomGrocery StoreGymInternetJogging TrackSwimming PoolTennis CourtLaundryRestaurantSecurityPlayground'],\n",
       "       ['ATMBasket Ball CourtCable TVFunction RoomGrocery StoreGymInternetJogging TrackSwimming PoolTennis CourtLaundryRestaurantSecurityPlayground'],\n",
       "       ['Grocery StoreJogging TrackSwimming PoolTennis Court'],\n",
       "       ...,\n",
       "       ['Function RoomGrocery StoreGymSwimming PoolLaundrySecurityPlayground'],\n",
       "       ['ATMBasket Ball CourtCable TVFunction RoomGrocery StoreGymInternetJogging TrackSwimming PoolLaundryRestaurantSecurityPlayground'],\n",
       "       ['ATMBasket Ball CourtCable TVFunction RoomGrocery StoreGymInternetJogging TrackSwimming PoolTennis CourtLaundryRestaurantSecurityPlayground']],\n",
       "      dtype=object)"
      ]
     },
     "execution_count": 700,
     "metadata": {},
     "output_type": "execute_result"
    }
   ],
   "source": [
    "df3[['apt_facilities']].values"
   ]
  },
  {
   "cell_type": "code",
   "execution_count": 701,
   "id": "0a3ae133-630c-4832-ba83-31eb8e709e21",
   "metadata": {},
   "outputs": [],
   "source": [
    "df3['atm'] = 0\n",
    "df3['basketball_court'] = 0\n",
    "df3['cable_tv'] = 0\n",
    "df3['function_room'] = 0\n",
    "df3['grocery_store'] = 0\n",
    "df3['gym'] = 0\n",
    "df3['internet'] = 0\n",
    "df3['jogging_track'] = 0\n",
    "df3['swimming_pool'] = 0\n",
    "df3['tennis_court'] = 0\n",
    "df3['laundry'] = 0\n",
    "df3['restaurant'] = 0\n",
    "df3['security'] = 0\n",
    "df3['playground'] = 0"
   ]
  },
  {
   "cell_type": "code",
   "execution_count": 702,
   "id": "b21bd9ea-62f2-4023-834b-55c78b70f098",
   "metadata": {},
   "outputs": [
    {
     "data": {
      "text/plain": [
       "array(['ATMBasket Ball CourtCable TVFunction RoomGrocery StoreGymInternetJogging TrackSwimming PoolTennis CourtLaundryRestaurantSecurityPlayground',\n",
       "       'ATMBasket Ball CourtCable TVFunction RoomGrocery StoreGymInternetJogging TrackSwimming PoolTennis CourtLaundryRestaurantSecurityPlayground',\n",
       "       'Grocery StoreJogging TrackSwimming PoolTennis Court', ...,\n",
       "       'Function RoomGrocery StoreGymSwimming PoolLaundrySecurityPlayground',\n",
       "       'ATMBasket Ball CourtCable TVFunction RoomGrocery StoreGymInternetJogging TrackSwimming PoolLaundryRestaurantSecurityPlayground',\n",
       "       'ATMBasket Ball CourtCable TVFunction RoomGrocery StoreGymInternetJogging TrackSwimming PoolTennis CourtLaundryRestaurantSecurityPlayground'],\n",
       "      dtype=object)"
      ]
     },
     "execution_count": 702,
     "metadata": {},
     "output_type": "execute_result"
    }
   ],
   "source": [
    "df3.apt_facilities.values"
   ]
  },
  {
   "cell_type": "code",
   "execution_count": 703,
   "id": "0af2a64d-57b1-48e7-8e07-8b5104f9ca27",
   "metadata": {},
   "outputs": [],
   "source": [
    "atm, basketball_court, cable_tv, function_room, grocery_store, gym, internet = [],[],[],[],[],[],[]\n",
    "jogging_track, swimming_pool, tennis_court, laundry, restaurant, security, playground = [],[],[],[],[],[],[]\n",
    "\n",
    "for a in df3[df3.apt_facilities.str.lower().str.contains('atm')].index:\n",
    "    atm.append(a)\n",
    "df3.loc[atm,'atm'] = 1    \n",
    "    \n",
    "for b in df3[df3.apt_facilities.str.lower().str.contains('basket')].index:\n",
    "    basketball_court.append(b)\n",
    "df3.loc[basketball_court,'basketball_court'] = 1    \n",
    "    \n",
    "for c in df3[df3.apt_facilities.str.lower().str.contains('tv')].index:\n",
    "    cable_tv.append(c)\n",
    "df3.loc[cable_tv,'cable_tv'] = 1    \n",
    "\n",
    "\n",
    "for d in df3[df3.apt_facilities.str.lower().str.contains('function')].index:\n",
    "    function_room.append(d)\n",
    "df3.loc[function_room,'function_room'] = 1    \n",
    "\n",
    "for e in df3[df3.apt_facilities.str.lower().str.contains('grocery')].index:\n",
    "    grocery_store.append(e)\n",
    "df3.loc[grocery_store,'grocery_store'] = 1    \n",
    "\n",
    "for f in df3[df3.apt_facilities.str.lower().str.contains('gym')].index:\n",
    "    gym.append(f)\n",
    "df3.loc[gym,'gym'] = 1    \n",
    "\n",
    "for g in df3.apt_facilities.str.lower().str.contains('internet').index:\n",
    "    internet.append(g)\n",
    "df3.loc[internet,'internet'] = 1    \n",
    "\n",
    "for h in df3.apt_facilities.str.lower().str.contains('jogging').index:\n",
    "    jogging_track.append(h)\n",
    "df3.loc[jogging_track,'jogging_track'] = 1    \n",
    "\n",
    "for i in df3.apt_facilities.str.lower().str.contains('swimming').index:\n",
    "    swimming_pool.append(i)\n",
    "df3.loc[swimming_pool,'swimming_pool'] = 1    \n",
    "\n",
    "for j in df3.apt_facilities.str.lower().str.contains('tennis').index:\n",
    "    tennis_court.append(j)\n",
    "df3.loc[tennis_court,'tennis_court'] = 1    \n",
    "\n",
    "for k in df3.apt_facilities.str.lower().str.contains('laundry').index:\n",
    "    laundry.append(k)\n",
    "df3.loc[laundry,'laundry'] = 1    \n",
    "\n",
    "for l in df3.apt_facilities.str.lower().str.contains('restaurant').index:\n",
    "    restaurant.append(l)\n",
    "df3.loc[restaurant,'restaurant'] = 1    \n",
    "\n",
    "for m in df3.apt_facilities.str.lower().str.contains('security').index:\n",
    "    security.append(m)\n",
    "df3.loc[security,'security'] = 1    \n",
    "\n",
    "for n in df3.apt_facilities.str.lower().str.contains('playground').index:\n",
    "    playground.append(n) \n",
    "df3.loc[playground,'playground'] = 1    "
   ]
  },
  {
   "cell_type": "code",
   "execution_count": 704,
   "id": "12f8de10-44d8-409d-ba32-15732de17758",
   "metadata": {},
   "outputs": [],
   "source": [
    "df_fix = df3.drop(['apt_facilities'],axis=1)"
   ]
  },
  {
   "cell_type": "markdown",
   "id": "6a9dc16e-a1cd-4d6a-82f0-5d2d33163320",
   "metadata": {},
   "source": [
    "### Fix the wrong values"
   ]
  },
  {
   "cell_type": "markdown",
   "id": "176411cb-a1fe-49c4-abbd-d42cb31ca504",
   "metadata": {},
   "source": [
    "#### furnished"
   ]
  },
  {
   "cell_type": "code",
   "execution_count": 705,
   "id": "d059c467-bced-49c5-b594-a746cc6bf624",
   "metadata": {},
   "outputs": [
    {
     "data": {
      "text/html": [
       "<div>\n",
       "<style scoped>\n",
       "    .dataframe tbody tr th:only-of-type {\n",
       "        vertical-align: middle;\n",
       "    }\n",
       "\n",
       "    .dataframe tbody tr th {\n",
       "        vertical-align: top;\n",
       "    }\n",
       "\n",
       "    .dataframe thead th {\n",
       "        text-align: right;\n",
       "    }\n",
       "</style>\n",
       "<table border=\"1\" class=\"dataframe\">\n",
       "  <thead>\n",
       "    <tr style=\"text-align: right;\">\n",
       "      <th></th>\n",
       "      <th>unit_name</th>\n",
       "      <th>link-href</th>\n",
       "      <th>apt_id</th>\n",
       "      <th>area</th>\n",
       "      <th>furnished</th>\n",
       "      <th>bathroom</th>\n",
       "      <th>bedroom</th>\n",
       "      <th>floor</th>\n",
       "      <th>annual_price</th>\n",
       "      <th>region</th>\n",
       "      <th>apt_name</th>\n",
       "      <th>atm</th>\n",
       "      <th>basketball_court</th>\n",
       "      <th>cable_tv</th>\n",
       "      <th>function_room</th>\n",
       "      <th>grocery_store</th>\n",
       "      <th>gym</th>\n",
       "      <th>internet</th>\n",
       "      <th>jogging_track</th>\n",
       "      <th>swimming_pool</th>\n",
       "      <th>tennis_court</th>\n",
       "      <th>laundry</th>\n",
       "      <th>restaurant</th>\n",
       "      <th>security</th>\n",
       "      <th>playground</th>\n",
       "    </tr>\n",
       "  </thead>\n",
       "  <tbody>\n",
       "    <tr>\n",
       "      <th>420</th>\n",
       "      <td>Belmont Residence Studio Tower A</td>\n",
       "      <td>https://jendela360.com/sewa-apartemen-belmont-...</td>\n",
       "      <td>blma122</td>\n",
       "      <td>Lantai Tengah</td>\n",
       "      <td>22 m2</td>\n",
       "      <td>Fully Furnished</td>\n",
       "      <td>Studio</td>\n",
       "      <td>Tower A</td>\n",
       "      <td>41,100,000</td>\n",
       "      <td>Jakarta Barat</td>\n",
       "      <td>Belmont Residence</td>\n",
       "      <td>0</td>\n",
       "      <td>0</td>\n",
       "      <td>1</td>\n",
       "      <td>1</td>\n",
       "      <td>0</td>\n",
       "      <td>1</td>\n",
       "      <td>1</td>\n",
       "      <td>1</td>\n",
       "      <td>1</td>\n",
       "      <td>1</td>\n",
       "      <td>1</td>\n",
       "      <td>1</td>\n",
       "      <td>1</td>\n",
       "      <td>1</td>\n",
       "    </tr>\n",
       "    <tr>\n",
       "      <th>513</th>\n",
       "      <td>Bassura City Apartment Studio Non Furnished</td>\n",
       "      <td>https://jendela360.com/sewa-apartemen-bassura-...</td>\n",
       "      <td>bsca150</td>\n",
       "      <td>Lantai Rendah</td>\n",
       "      <td>20 m2</td>\n",
       "      <td>Non Furnished</td>\n",
       "      <td>Studio</td>\n",
       "      <td>Tower J</td>\n",
       "      <td>29,000,000</td>\n",
       "      <td>Jakarta Timur</td>\n",
       "      <td>Bassura City Apartment</td>\n",
       "      <td>1</td>\n",
       "      <td>0</td>\n",
       "      <td>1</td>\n",
       "      <td>1</td>\n",
       "      <td>1</td>\n",
       "      <td>1</td>\n",
       "      <td>1</td>\n",
       "      <td>1</td>\n",
       "      <td>1</td>\n",
       "      <td>1</td>\n",
       "      <td>1</td>\n",
       "      <td>1</td>\n",
       "      <td>1</td>\n",
       "      <td>1</td>\n",
       "    </tr>\n",
       "    <tr>\n",
       "      <th>631</th>\n",
       "      <td>Ciputra International Puri Studio Tower Amsterdam</td>\n",
       "      <td>https://jendela360.com/sewa-apartemen-ciputra-...</td>\n",
       "      <td>cipa006</td>\n",
       "      <td>Lantai Rendah</td>\n",
       "      <td>27.55 m2</td>\n",
       "      <td>Fully Furnished</td>\n",
       "      <td>Studio</td>\n",
       "      <td>Tower Amsterdam</td>\n",
       "      <td>45,000,000</td>\n",
       "      <td>Jakarta Barat</td>\n",
       "      <td>Ciputra International Puri</td>\n",
       "      <td>0</td>\n",
       "      <td>0</td>\n",
       "      <td>0</td>\n",
       "      <td>0</td>\n",
       "      <td>0</td>\n",
       "      <td>1</td>\n",
       "      <td>1</td>\n",
       "      <td>1</td>\n",
       "      <td>1</td>\n",
       "      <td>1</td>\n",
       "      <td>1</td>\n",
       "      <td>1</td>\n",
       "      <td>1</td>\n",
       "      <td>1</td>\n",
       "    </tr>\n",
       "    <tr>\n",
       "      <th>654</th>\n",
       "      <td>Casablanca Apartment 2BR Fully Furnished</td>\n",
       "      <td>https://jendela360.com/sewa-apartemen-casablan...</td>\n",
       "      <td>csbc014</td>\n",
       "      <td>Lantai Atas</td>\n",
       "      <td>163 m2</td>\n",
       "      <td>Fully Furnished</td>\n",
       "      <td>2 BR</td>\n",
       "      <td>Tower Avalon</td>\n",
       "      <td>28,800</td>\n",
       "      <td>Jakarta Selatan</td>\n",
       "      <td>Casablanca Apartment</td>\n",
       "      <td>1</td>\n",
       "      <td>1</td>\n",
       "      <td>1</td>\n",
       "      <td>1</td>\n",
       "      <td>1</td>\n",
       "      <td>1</td>\n",
       "      <td>1</td>\n",
       "      <td>1</td>\n",
       "      <td>1</td>\n",
       "      <td>1</td>\n",
       "      <td>1</td>\n",
       "      <td>1</td>\n",
       "      <td>1</td>\n",
       "      <td>1</td>\n",
       "    </tr>\n",
       "    <tr>\n",
       "      <th>701</th>\n",
       "      <td>Casa De Parco Apartment Studio View Swimming Pool</td>\n",
       "      <td>https://jendela360.com/sewa-apartemen-casa-de-...</td>\n",
       "      <td>cdpa114</td>\n",
       "      <td>Lantai Tengah</td>\n",
       "      <td>22 m2</td>\n",
       "      <td>Fully Furnished</td>\n",
       "      <td>Studio</td>\n",
       "      <td>Tower Gardenia</td>\n",
       "      <td>29,500,000</td>\n",
       "      <td>Tangerang</td>\n",
       "      <td>Casa De Parco Apartment</td>\n",
       "      <td>1</td>\n",
       "      <td>0</td>\n",
       "      <td>1</td>\n",
       "      <td>1</td>\n",
       "      <td>1</td>\n",
       "      <td>1</td>\n",
       "      <td>1</td>\n",
       "      <td>1</td>\n",
       "      <td>1</td>\n",
       "      <td>1</td>\n",
       "      <td>1</td>\n",
       "      <td>1</td>\n",
       "      <td>1</td>\n",
       "      <td>1</td>\n",
       "    </tr>\n",
       "    <tr>\n",
       "      <th>1167</th>\n",
       "      <td>U Residence Karawaci Studio Fully Furnished</td>\n",
       "      <td>https://jendela360.com/sewa-apartemen-u-reside...</td>\n",
       "      <td>urka250</td>\n",
       "      <td>Lantai Atas</td>\n",
       "      <td>35 m2</td>\n",
       "      <td>Fully Furnished</td>\n",
       "      <td>Studio</td>\n",
       "      <td>Tower 2</td>\n",
       "      <td>42,000,000</td>\n",
       "      <td>Tangerang</td>\n",
       "      <td>U Residence Karawaci</td>\n",
       "      <td>1</td>\n",
       "      <td>0</td>\n",
       "      <td>1</td>\n",
       "      <td>1</td>\n",
       "      <td>1</td>\n",
       "      <td>1</td>\n",
       "      <td>1</td>\n",
       "      <td>1</td>\n",
       "      <td>1</td>\n",
       "      <td>1</td>\n",
       "      <td>1</td>\n",
       "      <td>1</td>\n",
       "      <td>1</td>\n",
       "      <td>1</td>\n",
       "    </tr>\n",
       "    <tr>\n",
       "      <th>1210</th>\n",
       "      <td>Bassura City Apartment Studio Fully Furnished</td>\n",
       "      <td>https://jendela360.com/sewa-apartemen-bassura-...</td>\n",
       "      <td>bscb091</td>\n",
       "      <td>Lantai Atas</td>\n",
       "      <td>28 m2</td>\n",
       "      <td>Fully Furnished</td>\n",
       "      <td>1 BR</td>\n",
       "      <td>Tower D</td>\n",
       "      <td>35,000,000</td>\n",
       "      <td>Jakarta Timur</td>\n",
       "      <td>Bassura City Apartment</td>\n",
       "      <td>1</td>\n",
       "      <td>0</td>\n",
       "      <td>1</td>\n",
       "      <td>1</td>\n",
       "      <td>1</td>\n",
       "      <td>1</td>\n",
       "      <td>1</td>\n",
       "      <td>1</td>\n",
       "      <td>1</td>\n",
       "      <td>1</td>\n",
       "      <td>1</td>\n",
       "      <td>1</td>\n",
       "      <td>1</td>\n",
       "      <td>1</td>\n",
       "    </tr>\n",
       "    <tr>\n",
       "      <th>1483</th>\n",
       "      <td>ST Moritz Apartment 2+1BR View City</td>\n",
       "      <td>https://jendela360.com/sewa-apartemen-st-morit...</td>\n",
       "      <td>stmc083</td>\n",
       "      <td>Lantai Tengah</td>\n",
       "      <td>84 m2</td>\n",
       "      <td>Fully Furnished</td>\n",
       "      <td>2 BR</td>\n",
       "      <td>Tower New Royale Suites</td>\n",
       "      <td>117,700,000</td>\n",
       "      <td>Jakarta Barat</td>\n",
       "      <td>ST Moritz Apartment</td>\n",
       "      <td>1</td>\n",
       "      <td>1</td>\n",
       "      <td>1</td>\n",
       "      <td>1</td>\n",
       "      <td>1</td>\n",
       "      <td>1</td>\n",
       "      <td>1</td>\n",
       "      <td>1</td>\n",
       "      <td>1</td>\n",
       "      <td>1</td>\n",
       "      <td>1</td>\n",
       "      <td>1</td>\n",
       "      <td>1</td>\n",
       "      <td>1</td>\n",
       "    </tr>\n",
       "    <tr>\n",
       "      <th>2003</th>\n",
       "      <td>Branz Simatupang Apartment 2BR Fully Furnished</td>\n",
       "      <td>https://jendela360.com/sewa-apartemen-branz-si...</td>\n",
       "      <td>bzsc002</td>\n",
       "      <td>Lantai Rendah</td>\n",
       "      <td>150 m2</td>\n",
       "      <td>Fully Furnished</td>\n",
       "      <td>2 BR</td>\n",
       "      <td>Tower North</td>\n",
       "      <td>480,000,000</td>\n",
       "      <td>Jakarta Selatan</td>\n",
       "      <td>Branz Simatupang Apartment</td>\n",
       "      <td>0</td>\n",
       "      <td>0</td>\n",
       "      <td>0</td>\n",
       "      <td>0</td>\n",
       "      <td>0</td>\n",
       "      <td>1</td>\n",
       "      <td>1</td>\n",
       "      <td>1</td>\n",
       "      <td>1</td>\n",
       "      <td>1</td>\n",
       "      <td>1</td>\n",
       "      <td>1</td>\n",
       "      <td>1</td>\n",
       "      <td>1</td>\n",
       "    </tr>\n",
       "    <tr>\n",
       "      <th>2506</th>\n",
       "      <td>Mediterania Gajah Mada Apartment 1BR Fully Fur...</td>\n",
       "      <td>https://jendela360.com/sewa-apartemen-meditera...</td>\n",
       "      <td>gmmb008</td>\n",
       "      <td>Lantai Rendah</td>\n",
       "      <td>36 m2</td>\n",
       "      <td>Fully Furnished</td>\n",
       "      <td>1 BR</td>\n",
       "      <td>Tower A</td>\n",
       "      <td>40,700,000</td>\n",
       "      <td>Jakarta Barat</td>\n",
       "      <td>Mediterania Gajah Mada Apartment</td>\n",
       "      <td>1</td>\n",
       "      <td>0</td>\n",
       "      <td>0</td>\n",
       "      <td>1</td>\n",
       "      <td>1</td>\n",
       "      <td>1</td>\n",
       "      <td>1</td>\n",
       "      <td>1</td>\n",
       "      <td>1</td>\n",
       "      <td>1</td>\n",
       "      <td>1</td>\n",
       "      <td>1</td>\n",
       "      <td>1</td>\n",
       "      <td>1</td>\n",
       "    </tr>\n",
       "    <tr>\n",
       "      <th>2908</th>\n",
       "      <td>Atria Residence Paramount Studio View</td>\n",
       "      <td>https://jendela360.com/sewa-apartemen-atria-re...</td>\n",
       "      <td>arpa007</td>\n",
       "      <td>Lantai Tengah</td>\n",
       "      <td>30 m2</td>\n",
       "      <td>Fully Furnished</td>\n",
       "      <td>Studio</td>\n",
       "      <td>Tower Atria</td>\n",
       "      <td>60,000,000</td>\n",
       "      <td>Tangerang</td>\n",
       "      <td>Atria Residence Paramount</td>\n",
       "      <td>0</td>\n",
       "      <td>0</td>\n",
       "      <td>0</td>\n",
       "      <td>1</td>\n",
       "      <td>1</td>\n",
       "      <td>1</td>\n",
       "      <td>1</td>\n",
       "      <td>1</td>\n",
       "      <td>1</td>\n",
       "      <td>1</td>\n",
       "      <td>1</td>\n",
       "      <td>1</td>\n",
       "      <td>1</td>\n",
       "      <td>1</td>\n",
       "    </tr>\n",
       "    <tr>\n",
       "      <th>2933</th>\n",
       "      <td>Citra Living Apartment 2BR Fully Furnished</td>\n",
       "      <td>https://jendela360.com/sewa-apartemen-citra-li...</td>\n",
       "      <td>clic001</td>\n",
       "      <td>Lantai Tengah</td>\n",
       "      <td>41 m2</td>\n",
       "      <td>Fully Furnished</td>\n",
       "      <td>2 BR</td>\n",
       "      <td>Tower Orchard</td>\n",
       "      <td>65,000,000</td>\n",
       "      <td>Jakarta Barat</td>\n",
       "      <td>Citra Living Apartment</td>\n",
       "      <td>0</td>\n",
       "      <td>0</td>\n",
       "      <td>0</td>\n",
       "      <td>0</td>\n",
       "      <td>0</td>\n",
       "      <td>1</td>\n",
       "      <td>1</td>\n",
       "      <td>1</td>\n",
       "      <td>1</td>\n",
       "      <td>1</td>\n",
       "      <td>1</td>\n",
       "      <td>1</td>\n",
       "      <td>1</td>\n",
       "      <td>1</td>\n",
       "    </tr>\n",
       "    <tr>\n",
       "      <th>3209</th>\n",
       "      <td>Senayan City Residence 2BR View Lapangan Golf ...</td>\n",
       "      <td>https://jendela360.com/sewa-apartemen-senayan-...</td>\n",
       "      <td>scrc001</td>\n",
       "      <td>Lantai Tengah</td>\n",
       "      <td>235 m2</td>\n",
       "      <td>Fully Furnished</td>\n",
       "      <td>2 BR</td>\n",
       "      <td>Tower B</td>\n",
       "      <td>55,200</td>\n",
       "      <td>Jakarta Selatan</td>\n",
       "      <td>Senayan City Residence</td>\n",
       "      <td>1</td>\n",
       "      <td>0</td>\n",
       "      <td>1</td>\n",
       "      <td>1</td>\n",
       "      <td>1</td>\n",
       "      <td>1</td>\n",
       "      <td>1</td>\n",
       "      <td>1</td>\n",
       "      <td>1</td>\n",
       "      <td>1</td>\n",
       "      <td>1</td>\n",
       "      <td>1</td>\n",
       "      <td>1</td>\n",
       "      <td>1</td>\n",
       "    </tr>\n",
       "    <tr>\n",
       "      <th>3829</th>\n",
       "      <td>Victoria Square Apartment -1BR Semi Furnished</td>\n",
       "      <td>https://jendela360.com/sewa-apartemen-victoria...</td>\n",
       "      <td>vsuf001</td>\n",
       "      <td>Lantai Tengah</td>\n",
       "      <td>20 m2</td>\n",
       "      <td>Semi Furnished</td>\n",
       "      <td>Studio</td>\n",
       "      <td>Tower Valencia</td>\n",
       "      <td>25,000,000</td>\n",
       "      <td>Tangerang</td>\n",
       "      <td>Victoria Square Apartment</td>\n",
       "      <td>0</td>\n",
       "      <td>0</td>\n",
       "      <td>1</td>\n",
       "      <td>1</td>\n",
       "      <td>0</td>\n",
       "      <td>1</td>\n",
       "      <td>1</td>\n",
       "      <td>1</td>\n",
       "      <td>1</td>\n",
       "      <td>1</td>\n",
       "      <td>1</td>\n",
       "      <td>1</td>\n",
       "      <td>1</td>\n",
       "      <td>1</td>\n",
       "    </tr>\n",
       "  </tbody>\n",
       "</table>\n",
       "</div>"
      ],
      "text/plain": [
       "                                              unit_name  \\\n",
       "420                    Belmont Residence Studio Tower A   \n",
       "513         Bassura City Apartment Studio Non Furnished   \n",
       "631   Ciputra International Puri Studio Tower Amsterdam   \n",
       "654            Casablanca Apartment 2BR Fully Furnished   \n",
       "701   Casa De Parco Apartment Studio View Swimming Pool   \n",
       "1167        U Residence Karawaci Studio Fully Furnished   \n",
       "1210      Bassura City Apartment Studio Fully Furnished   \n",
       "1483                ST Moritz Apartment 2+1BR View City   \n",
       "2003     Branz Simatupang Apartment 2BR Fully Furnished   \n",
       "2506  Mediterania Gajah Mada Apartment 1BR Fully Fur...   \n",
       "2908              Atria Residence Paramount Studio View   \n",
       "2933         Citra Living Apartment 2BR Fully Furnished   \n",
       "3209  Senayan City Residence 2BR View Lapangan Golf ...   \n",
       "3829      Victoria Square Apartment -1BR Semi Furnished   \n",
       "\n",
       "                                              link-href   apt_id  \\\n",
       "420   https://jendela360.com/sewa-apartemen-belmont-...  blma122   \n",
       "513   https://jendela360.com/sewa-apartemen-bassura-...  bsca150   \n",
       "631   https://jendela360.com/sewa-apartemen-ciputra-...  cipa006   \n",
       "654   https://jendela360.com/sewa-apartemen-casablan...  csbc014   \n",
       "701   https://jendela360.com/sewa-apartemen-casa-de-...  cdpa114   \n",
       "1167  https://jendela360.com/sewa-apartemen-u-reside...  urka250   \n",
       "1210  https://jendela360.com/sewa-apartemen-bassura-...  bscb091   \n",
       "1483  https://jendela360.com/sewa-apartemen-st-morit...  stmc083   \n",
       "2003  https://jendela360.com/sewa-apartemen-branz-si...  bzsc002   \n",
       "2506  https://jendela360.com/sewa-apartemen-meditera...  gmmb008   \n",
       "2908  https://jendela360.com/sewa-apartemen-atria-re...  arpa007   \n",
       "2933  https://jendela360.com/sewa-apartemen-citra-li...  clic001   \n",
       "3209  https://jendela360.com/sewa-apartemen-senayan-...  scrc001   \n",
       "3829  https://jendela360.com/sewa-apartemen-victoria...  vsuf001   \n",
       "\n",
       "               area furnished         bathroom bedroom  \\\n",
       "420   Lantai Tengah     22 m2  Fully Furnished  Studio   \n",
       "513   Lantai Rendah     20 m2    Non Furnished  Studio   \n",
       "631   Lantai Rendah  27.55 m2  Fully Furnished  Studio   \n",
       "654     Lantai Atas    163 m2  Fully Furnished    2 BR   \n",
       "701   Lantai Tengah     22 m2  Fully Furnished  Studio   \n",
       "1167    Lantai Atas     35 m2  Fully Furnished  Studio   \n",
       "1210    Lantai Atas     28 m2  Fully Furnished    1 BR   \n",
       "1483  Lantai Tengah     84 m2  Fully Furnished    2 BR   \n",
       "2003  Lantai Rendah    150 m2  Fully Furnished    2 BR   \n",
       "2506  Lantai Rendah     36 m2  Fully Furnished    1 BR   \n",
       "2908  Lantai Tengah     30 m2  Fully Furnished  Studio   \n",
       "2933  Lantai Tengah     41 m2  Fully Furnished    2 BR   \n",
       "3209  Lantai Tengah    235 m2  Fully Furnished    2 BR   \n",
       "3829  Lantai Tengah     20 m2   Semi Furnished  Studio   \n",
       "\n",
       "                        floor annual_price           region  \\\n",
       "420                   Tower A   41,100,000    Jakarta Barat   \n",
       "513                   Tower J   29,000,000    Jakarta Timur   \n",
       "631           Tower Amsterdam   45,000,000    Jakarta Barat   \n",
       "654              Tower Avalon       28,800  Jakarta Selatan   \n",
       "701            Tower Gardenia   29,500,000        Tangerang   \n",
       "1167                  Tower 2   42,000,000        Tangerang   \n",
       "1210                  Tower D   35,000,000    Jakarta Timur   \n",
       "1483  Tower New Royale Suites  117,700,000    Jakarta Barat   \n",
       "2003              Tower North  480,000,000  Jakarta Selatan   \n",
       "2506                  Tower A   40,700,000    Jakarta Barat   \n",
       "2908              Tower Atria   60,000,000        Tangerang   \n",
       "2933            Tower Orchard   65,000,000    Jakarta Barat   \n",
       "3209                  Tower B       55,200  Jakarta Selatan   \n",
       "3829           Tower Valencia   25,000,000        Tangerang   \n",
       "\n",
       "                              apt_name  atm  basketball_court  cable_tv  \\\n",
       "420                  Belmont Residence    0                 0         1   \n",
       "513             Bassura City Apartment    1                 0         1   \n",
       "631         Ciputra International Puri    0                 0         0   \n",
       "654               Casablanca Apartment    1                 1         1   \n",
       "701            Casa De Parco Apartment    1                 0         1   \n",
       "1167              U Residence Karawaci    1                 0         1   \n",
       "1210            Bassura City Apartment    1                 0         1   \n",
       "1483               ST Moritz Apartment    1                 1         1   \n",
       "2003        Branz Simatupang Apartment    0                 0         0   \n",
       "2506  Mediterania Gajah Mada Apartment    1                 0         0   \n",
       "2908         Atria Residence Paramount    0                 0         0   \n",
       "2933            Citra Living Apartment    0                 0         0   \n",
       "3209            Senayan City Residence    1                 0         1   \n",
       "3829         Victoria Square Apartment    0                 0         1   \n",
       "\n",
       "      function_room  grocery_store  gym  internet  jogging_track  \\\n",
       "420               1              0    1         1              1   \n",
       "513               1              1    1         1              1   \n",
       "631               0              0    1         1              1   \n",
       "654               1              1    1         1              1   \n",
       "701               1              1    1         1              1   \n",
       "1167              1              1    1         1              1   \n",
       "1210              1              1    1         1              1   \n",
       "1483              1              1    1         1              1   \n",
       "2003              0              0    1         1              1   \n",
       "2506              1              1    1         1              1   \n",
       "2908              1              1    1         1              1   \n",
       "2933              0              0    1         1              1   \n",
       "3209              1              1    1         1              1   \n",
       "3829              1              0    1         1              1   \n",
       "\n",
       "      swimming_pool  tennis_court  laundry  restaurant  security  playground  \n",
       "420               1             1        1           1         1           1  \n",
       "513               1             1        1           1         1           1  \n",
       "631               1             1        1           1         1           1  \n",
       "654               1             1        1           1         1           1  \n",
       "701               1             1        1           1         1           1  \n",
       "1167              1             1        1           1         1           1  \n",
       "1210              1             1        1           1         1           1  \n",
       "1483              1             1        1           1         1           1  \n",
       "2003              1             1        1           1         1           1  \n",
       "2506              1             1        1           1         1           1  \n",
       "2908              1             1        1           1         1           1  \n",
       "2933              1             1        1           1         1           1  \n",
       "3209              1             1        1           1         1           1  \n",
       "3829              1             1        1           1         1           1  "
      ]
     },
     "execution_count": 705,
     "metadata": {},
     "output_type": "execute_result"
    }
   ],
   "source": [
    "df_fix[df_fix['furnished'].str.contains('m2')]"
   ]
  },
  {
   "cell_type": "code",
   "execution_count": 706,
   "id": "0a8543e7-1800-41b1-a9af-b44929c4f3f8",
   "metadata": {},
   "outputs": [],
   "source": [
    "dummy = df_fix.loc[df_fix[df_fix['furnished'].str.contains('m2')].index]\n",
    "furnish_ = dummy.bathroom\n",
    "area_ = dummy.furnished\n",
    "floor_ = dummy.area"
   ]
  },
  {
   "cell_type": "code",
   "execution_count": 707,
   "id": "0cc39dec-dcb9-4b36-bee2-ff6a80bc0afb",
   "metadata": {},
   "outputs": [],
   "source": [
    "df_fix.loc[dummy.index,'bathroom'] = 1\n",
    "df_fix.loc[dummy.index,'furnished'] = furnish_\n",
    "df_fix.loc[dummy.index,'area'] = area_\n",
    "df_fix.loc[dummy.index,'floor'] = floor_"
   ]
  },
  {
   "cell_type": "code",
   "execution_count": 708,
   "id": "8f1c0a1c-0045-4585-bbb0-9482190341e3",
   "metadata": {},
   "outputs": [],
   "source": [
    "df_fix = df_fix.replace({\n",
    "             'area':{' m2':''},\n",
    "             'bathroom':{' Kamar Mandi':''},\n",
    "             'bedroom':{' BR':'','Studio':'0'},\n",
    "             'annual_price':{',':''}\n",
    "            },\n",
    "            regex=True)"
   ]
  },
  {
   "cell_type": "markdown",
   "id": "5050f53f-6da0-4e1d-9ce6-f20c173b2691",
   "metadata": {},
   "source": [
    "bedroom 0 means the type of apart is studio"
   ]
  },
  {
   "cell_type": "code",
   "execution_count": 709,
   "id": "0fa31b33-ad32-4566-9e96-ccf5803b4531",
   "metadata": {},
   "outputs": [
    {
     "data": {
      "text/plain": [
       "Fully Furnished    3241\n",
       "Semi Furnished      310\n",
       "Non Furnished       296\n",
       "Studio                1\n",
       "3 BR                  1\n",
       "Name: furnished, dtype: int64"
      ]
     },
     "execution_count": 709,
     "metadata": {},
     "output_type": "execute_result"
    }
   ],
   "source": [
    "df_fix.furnished.value_counts()"
   ]
  },
  {
   "cell_type": "markdown",
   "id": "8dd5a5db-a150-4903-9304-969c800067d3",
   "metadata": {},
   "source": [
    "- Fixing \"furnished\" and \"area\" with checking the website"
   ]
  },
  {
   "cell_type": "code",
   "execution_count": 710,
   "id": "4f3b8056-b472-4198-9888-c7b6abeaf311",
   "metadata": {},
   "outputs": [],
   "source": [
    "df_fix.loc[df_fix[df_fix.furnished.str.contains('Studio')].index,'furnished'] = 'Fully Furnished'\n",
    "df_fix.loc[df_fix[df_fix.furnished.str.contains('BR')].index,'furnished'] = 'Fully Furnished'"
   ]
  },
  {
   "cell_type": "markdown",
   "id": "e8eca6d6-da92-4bf4-95e0-3be9f0f77725",
   "metadata": {},
   "source": [
    "- after check the website, some of them dont have information about the area apartment. So we can drop it"
   ]
  },
  {
   "cell_type": "code",
   "execution_count": 711,
   "id": "576c1288-f57a-4400-a5f6-bdf819bbf96f",
   "metadata": {},
   "outputs": [],
   "source": [
    "df_fix = df_fix[~(df_fix.area.str.contains('Lantai'))]"
   ]
  },
  {
   "cell_type": "code",
   "execution_count": 712,
   "id": "e9d79be0-7b70-4ec6-a22a-fd95bec57495",
   "metadata": {},
   "outputs": [
    {
     "data": {
      "text/plain": [
       "Lantai Rendah    1393\n",
       "Lantai Tengah    1203\n",
       "Lantai Atas      1128\n",
       "2 BR               28\n",
       "Studio             23\n",
       "1 BR               13\n",
       "3 BR                5\n",
       "Name: floor, dtype: int64"
      ]
     },
     "execution_count": 712,
     "metadata": {},
     "output_type": "execute_result"
    }
   ],
   "source": [
    "df_fix.floor.value_counts()"
   ]
  },
  {
   "cell_type": "markdown",
   "id": "6b5f2259-d5c8-4065-b92b-d8debbe3004b",
   "metadata": {},
   "source": [
    "- based on consideration, I have the opinion that if this variable has been fixed, there are'nt much significant effect, so we can drop it"
   ]
  },
  {
   "cell_type": "code",
   "execution_count": 713,
   "id": "6aa5fd1f-5df3-4e68-9244-bca0aade86ee",
   "metadata": {},
   "outputs": [],
   "source": [
    "df_fix.drop('floor',axis=1,inplace=True)"
   ]
  },
  {
   "cell_type": "code",
   "execution_count": 714,
   "id": "f7035ae4-2550-4b1c-911a-b40a382f7a21",
   "metadata": {},
   "outputs": [],
   "source": [
    "df_fix[df_fix.drop(['unit_name','link-href','region','apt_name','furnished','apt_id'],axis=1).columns.tolist()] = df_fix[df_fix.drop(['unit_name','link-href','region','apt_name','furnished','apt_id'],axis=1).columns.tolist()].astype(float)"
   ]
  },
  {
   "cell_type": "code",
   "execution_count": 715,
   "id": "c2bfd1b7-ab99-4474-981b-cdf64215fabc",
   "metadata": {},
   "outputs": [],
   "source": [
    "df_fix.drop_duplicates(inplace=True)"
   ]
  },
  {
   "cell_type": "markdown",
   "id": "e2581c74-aa49-4b68-afe4-f9b7e1c54556",
   "metadata": {},
   "source": [
    "Change annual price currency"
   ]
  },
  {
   "cell_type": "code",
   "execution_count": 716,
   "id": "dde44186-d248-4d65-96eb-d7496c2499c9",
   "metadata": {},
   "outputs": [],
   "source": [
    "df = df_fix.copy()\n",
    "df.loc[df[df.annual_price<1000000].index,'annual_price'] = df.loc[df[df.annual_price<1000000].index,'annual_price']*14500"
   ]
  },
  {
   "cell_type": "code",
   "execution_count": null,
   "id": "aabc1cf3-60a1-4af7-be40-fa0b11da0ced",
   "metadata": {},
   "outputs": [],
   "source": []
  },
  {
   "cell_type": "markdown",
   "id": "ea4218da-cf79-4ea4-bd13-e9416a0557f7",
   "metadata": {},
   "source": [
    "# Analyze with visualization"
   ]
  },
  {
   "cell_type": "markdown",
   "id": "1b7edefc-db44-45d0-a1c4-e1c067dd8c60",
   "metadata": {},
   "source": [
    "## Area"
   ]
  },
  {
   "cell_type": "code",
   "execution_count": 717,
   "id": "3238323b-bb81-492f-8364-25d48070d352",
   "metadata": {},
   "outputs": [
    {
     "data": {
      "text/plain": [
       "<AxesSubplot:xlabel='area', ylabel='annual_price'>"
      ]
     },
     "execution_count": 717,
     "metadata": {},
     "output_type": "execute_result"
    },
    {
     "data": {
      "image/png": "[encoded data removed]",
      "text/plain": [
       "<Figure size 432x288 with 1 Axes>"
      ]
     },
     "metadata": {
      "needs_background": "light"
     },
     "output_type": "display_data"
    }
   ],
   "source": [
    "sns.scatterplot(df.area,df.annual_price)"
   ]
  },
  {
   "cell_type": "code",
   "execution_count": 718,
   "id": "fdf98cdf-6218-4377-8fd1-48672b4a1b34",
   "metadata": {},
   "outputs": [
    {
     "data": {
      "text/html": [
       "<div>\n",
       "<style scoped>\n",
       "    .dataframe tbody tr th:only-of-type {\n",
       "        vertical-align: middle;\n",
       "    }\n",
       "\n",
       "    .dataframe tbody tr th {\n",
       "        vertical-align: top;\n",
       "    }\n",
       "\n",
       "    .dataframe thead th {\n",
       "        text-align: right;\n",
       "    }\n",
       "</style>\n",
       "<table border=\"1\" class=\"dataframe\">\n",
       "  <thead>\n",
       "    <tr style=\"text-align: right;\">\n",
       "      <th></th>\n",
       "      <th>unit_name</th>\n",
       "      <th>link-href</th>\n",
       "      <th>apt_id</th>\n",
       "      <th>area</th>\n",
       "      <th>furnished</th>\n",
       "      <th>bathroom</th>\n",
       "      <th>bedroom</th>\n",
       "      <th>annual_price</th>\n",
       "      <th>region</th>\n",
       "      <th>apt_name</th>\n",
       "      <th>atm</th>\n",
       "      <th>basketball_court</th>\n",
       "      <th>cable_tv</th>\n",
       "      <th>function_room</th>\n",
       "      <th>grocery_store</th>\n",
       "      <th>gym</th>\n",
       "      <th>internet</th>\n",
       "      <th>jogging_track</th>\n",
       "      <th>swimming_pool</th>\n",
       "      <th>tennis_court</th>\n",
       "      <th>laundry</th>\n",
       "      <th>restaurant</th>\n",
       "      <th>security</th>\n",
       "      <th>playground</th>\n",
       "    </tr>\n",
       "  </thead>\n",
       "  <tbody>\n",
       "    <tr>\n",
       "      <th>97</th>\n",
       "      <td>Season City Apartment 2BR Fully Furnished</td>\n",
       "      <td>https://jendela360.com/sewa-apartemen-season-c...</td>\n",
       "      <td>sscc082</td>\n",
       "      <td>488.0</td>\n",
       "      <td>Fully Furnished</td>\n",
       "      <td>1.0</td>\n",
       "      <td>2.0</td>\n",
       "      <td>41200000.0</td>\n",
       "      <td>Jakarta Barat</td>\n",
       "      <td>Season City Apartment</td>\n",
       "      <td>1.0</td>\n",
       "      <td>0.0</td>\n",
       "      <td>1.0</td>\n",
       "      <td>1.0</td>\n",
       "      <td>1.0</td>\n",
       "      <td>1.0</td>\n",
       "      <td>1.0</td>\n",
       "      <td>1.0</td>\n",
       "      <td>1.0</td>\n",
       "      <td>1.0</td>\n",
       "      <td>1.0</td>\n",
       "      <td>1.0</td>\n",
       "      <td>1.0</td>\n",
       "      <td>1.0</td>\n",
       "    </tr>\n",
       "    <tr>\n",
       "      <th>143</th>\n",
       "      <td>Puri Orchard Apartment 1BR Fully Furnished</td>\n",
       "      <td>https://jendela360.com/sewa-apartemen-puri-orc...</td>\n",
       "      <td>pucb206</td>\n",
       "      <td>35200.0</td>\n",
       "      <td>Fully Furnished</td>\n",
       "      <td>1.0</td>\n",
       "      <td>1.0</td>\n",
       "      <td>47000000.0</td>\n",
       "      <td>Jakarta Barat</td>\n",
       "      <td>Puri Orchard Apartment</td>\n",
       "      <td>1.0</td>\n",
       "      <td>0.0</td>\n",
       "      <td>1.0</td>\n",
       "      <td>1.0</td>\n",
       "      <td>1.0</td>\n",
       "      <td>1.0</td>\n",
       "      <td>1.0</td>\n",
       "      <td>1.0</td>\n",
       "      <td>1.0</td>\n",
       "      <td>1.0</td>\n",
       "      <td>1.0</td>\n",
       "      <td>1.0</td>\n",
       "      <td>1.0</td>\n",
       "      <td>1.0</td>\n",
       "    </tr>\n",
       "    <tr>\n",
       "      <th>1261</th>\n",
       "      <td>Madison Park 1BR View kolam berenang</td>\n",
       "      <td>https://jendela360.com/sewa-apartemen-madison-...</td>\n",
       "      <td>mapb040</td>\n",
       "      <td>25590.0</td>\n",
       "      <td>Fully Furnished</td>\n",
       "      <td>1.0</td>\n",
       "      <td>1.0</td>\n",
       "      <td>45000000.0</td>\n",
       "      <td>Jakarta Barat</td>\n",
       "      <td>Madison Park</td>\n",
       "      <td>1.0</td>\n",
       "      <td>0.0</td>\n",
       "      <td>1.0</td>\n",
       "      <td>1.0</td>\n",
       "      <td>1.0</td>\n",
       "      <td>1.0</td>\n",
       "      <td>1.0</td>\n",
       "      <td>1.0</td>\n",
       "      <td>1.0</td>\n",
       "      <td>1.0</td>\n",
       "      <td>1.0</td>\n",
       "      <td>1.0</td>\n",
       "      <td>1.0</td>\n",
       "      <td>1.0</td>\n",
       "    </tr>\n",
       "    <tr>\n",
       "      <th>1546</th>\n",
       "      <td>Green Lake View Apartment Studio Tower C</td>\n",
       "      <td>https://jendela360.com/sewa-apartemen-green-la...</td>\n",
       "      <td>glva014</td>\n",
       "      <td>2175.0</td>\n",
       "      <td>Fully Furnished</td>\n",
       "      <td>1.0</td>\n",
       "      <td>0.0</td>\n",
       "      <td>29000000.0</td>\n",
       "      <td>Tangerang Selatan</td>\n",
       "      <td>Green Lake View Apartment</td>\n",
       "      <td>1.0</td>\n",
       "      <td>1.0</td>\n",
       "      <td>1.0</td>\n",
       "      <td>0.0</td>\n",
       "      <td>0.0</td>\n",
       "      <td>1.0</td>\n",
       "      <td>1.0</td>\n",
       "      <td>1.0</td>\n",
       "      <td>1.0</td>\n",
       "      <td>1.0</td>\n",
       "      <td>1.0</td>\n",
       "      <td>1.0</td>\n",
       "      <td>1.0</td>\n",
       "      <td>1.0</td>\n",
       "    </tr>\n",
       "    <tr>\n",
       "      <th>1789</th>\n",
       "      <td>Springwood Residence Studio Fully Furnished</td>\n",
       "      <td>https://jendela360.com/sewa-apartemen-springwo...</td>\n",
       "      <td>swra056</td>\n",
       "      <td>2625.0</td>\n",
       "      <td>Fully Furnished</td>\n",
       "      <td>1.0</td>\n",
       "      <td>0.0</td>\n",
       "      <td>33000000.0</td>\n",
       "      <td>Tangerang</td>\n",
       "      <td>Springwood Residence</td>\n",
       "      <td>0.0</td>\n",
       "      <td>0.0</td>\n",
       "      <td>0.0</td>\n",
       "      <td>1.0</td>\n",
       "      <td>1.0</td>\n",
       "      <td>1.0</td>\n",
       "      <td>1.0</td>\n",
       "      <td>1.0</td>\n",
       "      <td>1.0</td>\n",
       "      <td>1.0</td>\n",
       "      <td>1.0</td>\n",
       "      <td>1.0</td>\n",
       "      <td>1.0</td>\n",
       "      <td>1.0</td>\n",
       "    </tr>\n",
       "  </tbody>\n",
       "</table>\n",
       "</div>"
      ],
      "text/plain": [
       "                                        unit_name  \\\n",
       "97      Season City Apartment 2BR Fully Furnished   \n",
       "143    Puri Orchard Apartment 1BR Fully Furnished   \n",
       "1261         Madison Park 1BR View kolam berenang   \n",
       "1546     Green Lake View Apartment Studio Tower C   \n",
       "1789  Springwood Residence Studio Fully Furnished   \n",
       "\n",
       "                                              link-href   apt_id     area  \\\n",
       "97    https://jendela360.com/sewa-apartemen-season-c...  sscc082    488.0   \n",
       "143   https://jendela360.com/sewa-apartemen-puri-orc...  pucb206  35200.0   \n",
       "1261  https://jendela360.com/sewa-apartemen-madison-...  mapb040  25590.0   \n",
       "1546  https://jendela360.com/sewa-apartemen-green-la...  glva014   2175.0   \n",
       "1789  https://jendela360.com/sewa-apartemen-springwo...  swra056   2625.0   \n",
       "\n",
       "            furnished  bathroom  bedroom  annual_price             region  \\\n",
       "97    Fully Furnished       1.0      2.0    41200000.0      Jakarta Barat   \n",
       "143   Fully Furnished       1.0      1.0    47000000.0      Jakarta Barat   \n",
       "1261  Fully Furnished       1.0      1.0    45000000.0      Jakarta Barat   \n",
       "1546  Fully Furnished       1.0      0.0    29000000.0  Tangerang Selatan   \n",
       "1789  Fully Furnished       1.0      0.0    33000000.0          Tangerang   \n",
       "\n",
       "                       apt_name  atm  basketball_court  cable_tv  \\\n",
       "97        Season City Apartment  1.0               0.0       1.0   \n",
       "143      Puri Orchard Apartment  1.0               0.0       1.0   \n",
       "1261               Madison Park  1.0               0.0       1.0   \n",
       "1546  Green Lake View Apartment  1.0               1.0       1.0   \n",
       "1789       Springwood Residence  0.0               0.0       0.0   \n",
       "\n",
       "      function_room  grocery_store  gym  internet  jogging_track  \\\n",
       "97              1.0            1.0  1.0       1.0            1.0   \n",
       "143             1.0            1.0  1.0       1.0            1.0   \n",
       "1261            1.0            1.0  1.0       1.0            1.0   \n",
       "1546            0.0            0.0  1.0       1.0            1.0   \n",
       "1789            1.0            1.0  1.0       1.0            1.0   \n",
       "\n",
       "      swimming_pool  tennis_court  laundry  restaurant  security  playground  \n",
       "97              1.0           1.0      1.0         1.0       1.0         1.0  \n",
       "143             1.0           1.0      1.0         1.0       1.0         1.0  \n",
       "1261            1.0           1.0      1.0         1.0       1.0         1.0  \n",
       "1546            1.0           1.0      1.0         1.0       1.0         1.0  \n",
       "1789            1.0           1.0      1.0         1.0       1.0         1.0  "
      ]
     },
     "execution_count": 718,
     "metadata": {},
     "output_type": "execute_result"
    }
   ],
   "source": [
    "df[(df.area>250)&(df.annual_price<0.2e9)]"
   ]
  },
  {
   "cell_type": "markdown",
   "id": "4681c0ca-e1bb-48f7-ba9e-7c994cc4a179",
   "metadata": {},
   "source": [
    "there are some mistakes in their website, the values should be changed. And also there are some extreme outliers that we have remove"
   ]
  },
  {
   "cell_type": "code",
   "execution_count": 719,
   "id": "2530d3ac-b843-44eb-a3c5-4f3f7e29db61",
   "metadata": {},
   "outputs": [],
   "source": [
    "df.loc[97,'area'] = 48.8\n",
    "df.loc[143,'area'] = 35.2\n",
    "df.loc[1261,'area'] = 25.6\n",
    "df.loc[1546,'area'] = 21.75\n",
    "df.loc[1789,'area'] = 26.25\n",
    "df.drop(index=[1611,3264,3719],inplace=True,errors='ignore')"
   ]
  },
  {
   "cell_type": "code",
   "execution_count": 720,
   "id": "d4727ff1-d486-4efd-994e-5b853ba7ca73",
   "metadata": {},
   "outputs": [
    {
     "data": {
      "text/plain": [
       "<AxesSubplot:xlabel='area', ylabel='annual_price'>"
      ]
     },
     "execution_count": 720,
     "metadata": {},
     "output_type": "execute_result"
    },
    {
     "data": {
      "image/png": "[encoded data removed]",
      "text/plain": [
       "<Figure size 432x288 with 1 Axes>"
      ]
     },
     "metadata": {
      "needs_background": "light"
     },
     "output_type": "display_data"
    }
   ],
   "source": [
    "sns.scatterplot(df.area,df.annual_price)"
   ]
  },
  {
   "cell_type": "markdown",
   "id": "8a1f7e0c-1936-4408-abe6-7026c89c0811",
   "metadata": {},
   "source": [
    "## categorical data"
   ]
  },
  {
   "cell_type": "markdown",
   "id": "3d2a7398-bb03-47e9-8b21-0c23506e13a8",
   "metadata": {},
   "source": [
    "## furnished"
   ]
  },
  {
   "cell_type": "code",
   "execution_count": 721,
   "id": "55607dd3-ae6c-4aeb-97ef-8aefedba073c",
   "metadata": {},
   "outputs": [
    {
     "data": {
      "text/plain": [
       "<AxesSubplot:xlabel='furnished', ylabel='annual_price'>"
      ]
     },
     "execution_count": 721,
     "metadata": {},
     "output_type": "execute_result"
    },
    {
     "data": {
      "image/png": "[encoded data removed]",
      "text/plain": [
       "<Figure size 432x288 with 1 Axes>"
      ]
     },
     "metadata": {
      "needs_background": "light"
     },
     "output_type": "display_data"
    }
   ],
   "source": [
    "sns.boxplot(df.furnished,df.annual_price)"
   ]
  },
  {
   "cell_type": "markdown",
   "id": "00582028-d625-42df-bdc5-2744f1af18aa",
   "metadata": {},
   "source": [
    "it seems like the furnished variable have order from full furnished till non-furnished, so they must be changed into numerical with encoding data to check its effect to price"
   ]
  },
  {
   "cell_type": "markdown",
   "id": "dc60920b-5017-44e0-90f7-c02ed8138adb",
   "metadata": {},
   "source": [
    "## type of unit"
   ]
  },
  {
   "cell_type": "code",
   "execution_count": 722,
   "id": "e0e34ffc-5c0c-4573-9026-7ced3b3d652b",
   "metadata": {},
   "outputs": [
    {
     "data": {
      "text/plain": [
       "<AxesSubplot:xlabel='annual_price', ylabel='bedroom'>"
      ]
     },
     "execution_count": 722,
     "metadata": {},
     "output_type": "execute_result"
    },
    {
     "data": {
      "image/png": "[encoded data removed]",
      "text/plain": [
       "<Figure size 432x288 with 1 Axes>"
      ]
     },
     "metadata": {
      "needs_background": "light"
     },
     "output_type": "display_data"
    }
   ],
   "source": [
    "sns.boxplot(df.annual_price,df.bedroom,orient='h')"
   ]
  },
  {
   "cell_type": "code",
   "execution_count": 723,
   "id": "5e468de9-a58f-4e7c-80f9-a8981878b26b",
   "metadata": {},
   "outputs": [
    {
     "data": {
      "text/plain": [
       "2.0    1688\n",
       "0.0     900\n",
       "1.0     672\n",
       "3.0     492\n",
       "4.0      25\n",
       "5.0       4\n",
       "Name: bedroom, dtype: int64"
      ]
     },
     "execution_count": 723,
     "metadata": {},
     "output_type": "execute_result"
    }
   ],
   "source": [
    "df.bedroom.value_counts()"
   ]
  },
  {
   "cell_type": "markdown",
   "id": "93a9d675-66aa-41c1-9430-793454a1914d",
   "metadata": {},
   "source": [
    "there are just 4 for five bedrooms type. let's merge it to four's type"
   ]
  },
  {
   "cell_type": "code",
   "execution_count": 724,
   "id": "c372b971-6adc-4b76-8af7-dc6913883f8e",
   "metadata": {},
   "outputs": [],
   "source": [
    "df.replace({'bedroom':{5:4}},inplace=True)"
   ]
  },
  {
   "cell_type": "code",
   "execution_count": 725,
   "id": "4e737ef9-356f-4caf-8571-bfae931dde5c",
   "metadata": {},
   "outputs": [
    {
     "data": {
      "text/plain": [
       "<AxesSubplot:xlabel='annual_price', ylabel='bedroom'>"
      ]
     },
     "execution_count": 725,
     "metadata": {},
     "output_type": "execute_result"
    },
    {
     "data": {
      "image/png": "[encoded data removed]",
      "text/plain": [
       "<Figure size 432x288 with 1 Axes>"
      ]
     },
     "metadata": {
      "needs_background": "light"
     },
     "output_type": "display_data"
    }
   ],
   "source": [
    "sns.boxplot(df.annual_price,df.bedroom,orient='h')"
   ]
  },
  {
   "cell_type": "markdown",
   "id": "405dd367-2265-4271-8965-df89d19e29d4",
   "metadata": {},
   "source": [
    "The graphic above seems good and makes sense. more number of bedrooms, more expensive"
   ]
  },
  {
   "cell_type": "markdown",
   "id": "5602325f-fefd-45f8-b46c-69a35ab5868f",
   "metadata": {},
   "source": [
    "## Region"
   ]
  },
  {
   "cell_type": "code",
   "execution_count": 726,
   "id": "c4b2bd6a-baad-40c1-babb-537e2e22f071",
   "metadata": {},
   "outputs": [
    {
     "data": {
      "text/plain": [
       "<AxesSubplot:xlabel='annual_price', ylabel='region'>"
      ]
     },
     "execution_count": 726,
     "metadata": {},
     "output_type": "execute_result"
    },
    {
     "data": {
      "image/png": "[encoded data removed]",
      "text/plain": [
       "<Figure size 432x288 with 1 Axes>"
      ]
     },
     "metadata": {
      "needs_background": "light"
     },
     "output_type": "display_data"
    }
   ],
   "source": [
    "sns.boxplot(df.annual_price,df.region,orient='h')"
   ]
  },
  {
   "cell_type": "code",
   "execution_count": 727,
   "id": "72174625-a3e0-4308-8579-a169346aa76c",
   "metadata": {},
   "outputs": [],
   "source": [
    "# put jabodetabek only and group bodetabek area\n",
    "df = df.set_index('region')"
   ]
  },
  {
   "cell_type": "code",
   "execution_count": 728,
   "id": "eb3a9d25-e7fd-457e-ac57-938a7ad31c58",
   "metadata": {},
   "outputs": [],
   "source": [
    "df = df.loc[df.index.value_counts().index[:12],:].drop(index=['Bandung','Surabaya'],errors='ignore')\n",
    "df = df.reset_index().replace({'region':{'Tangerang':'Bodetabek',\n",
    "                      'Tangerang Selatan':'Bodetabek',\n",
    "                      'Bogor':'Bodetabek',\n",
    "                      'Depok':'Bodetabek',\n",
    "                      'Bekasi':'Bodetabek',\n",
    "                     }})"
   ]
  },
  {
   "cell_type": "code",
   "execution_count": 729,
   "id": "88247afc-36d8-496a-83df-e39e919db632",
   "metadata": {},
   "outputs": [
    {
     "data": {
      "text/plain": [
       "<AxesSubplot:xlabel='annual_price', ylabel='region'>"
      ]
     },
     "execution_count": 729,
     "metadata": {},
     "output_type": "execute_result"
    },
    {
     "data": {
      "image/png": "[encoded data removed]",
      "text/plain": [
       "<Figure size 432x288 with 1 Axes>"
      ]
     },
     "metadata": {
      "needs_background": "light"
     },
     "output_type": "display_data"
    }
   ],
   "source": [
    "sns.boxplot(df.annual_price,df.region,orient='h')"
   ]
  },
  {
   "cell_type": "markdown",
   "id": "98f6551f-0eed-4826-946e-652687d8cc4a",
   "metadata": {},
   "source": [
    "check bodetabek extreme outlier"
   ]
  },
  {
   "cell_type": "code",
   "execution_count": 737,
   "id": "5cfeb097-5284-4a68-9669-e4289a7d2c66",
   "metadata": {},
   "outputs": [],
   "source": [
    "df[(df.region=='Bodetabek')&(df.annual_price>1.5e9)]"
   ]
  },
  {
   "cell_type": "code",
   "execution_count": 739,
   "id": "5d834ea2-49a2-43f2-a274-39ed3729cc87",
   "metadata": {},
   "outputs": [
    {
     "data": {
      "text/plain": [
       "(15, 24)"
      ]
     },
     "execution_count": 739,
     "metadata": {},
     "output_type": "execute_result"
    }
   ],
   "source": [
    "df[(df.region=='Jakarta Selatan')&(df.annual_price>0.75e9)].shape"
   ]
  },
  {
   "cell_type": "markdown",
   "id": "3b6befeb-550f-418e-aecd-2e8cc0d3588b",
   "metadata": {},
   "source": [
    "1. after check the data Bodetabek, that apartment (extreme outlier )located in Bekasi and the price is also correct. But, too risky to keep this value for machine learning model. So, we're gonna remove it\n",
    "2. We can take a look in Jakarta Selatan, since the number of apartments that have price more than 0.75e are just 15. So, we can take down these values for better further analysis"
   ]
  },
  {
   "cell_type": "code",
   "execution_count": 742,
   "id": "0500b611-8962-4397-bf62-5f3289c35ba8",
   "metadata": {},
   "outputs": [],
   "source": [
    "df.drop(index=df[(df.region=='Bodetabek')&(df.annual_price>1.5e9)].index,inplace=True,errors='ignore')\n",
    "df.drop(df[(df.region=='Jakarta Selatan')&(df.annual_price>0.75e9)].index,inplace=True,errors='ignore')"
   ]
  },
  {
   "cell_type": "code",
   "execution_count": 743,
   "id": "044a7714-5ac9-475d-be7f-295463cbd2a2",
   "metadata": {},
   "outputs": [
    {
     "data": {
      "text/plain": [
       "<AxesSubplot:xlabel='annual_price', ylabel='region'>"
      ]
     },
     "execution_count": 743,
     "metadata": {},
     "output_type": "execute_result"
    },
    {
     "data": {
      "image/png": "[encoded data removed]",
      "text/plain": [
       "<Figure size 432x288 with 1 Axes>"
      ]
     },
     "metadata": {
      "needs_background": "light"
     },
     "output_type": "display_data"
    }
   ],
   "source": [
    "sns.boxplot(df.annual_price,df.region,orient='h')"
   ]
  },
  {
   "cell_type": "code",
   "execution_count": 754,
   "id": "8b7d45e0-5cdf-4be3-95b9-052b1e4d3b67",
   "metadata": {},
   "outputs": [],
   "source": [
    "cat = df[df.columns[6:]].drop(['bedroom','annual_price','apt_name'],axis=1)"
   ]
  },
  {
   "cell_type": "code",
   "execution_count": 782,
   "id": "838a81a4-60da-43fb-b0d9-dce1afc15734",
   "metadata": {},
   "outputs": [
    {
     "data": {
      "text/plain": [
       "region                 6\n",
       "unit_name           2328\n",
       "link-href           3682\n",
       "apt_id              3682\n",
       "area                 252\n",
       "furnished              3\n",
       "bathroom               6\n",
       "bedroom                5\n",
       "annual_price         691\n",
       "apt_name             335\n",
       "atm                    2\n",
       "basketball_court       2\n",
       "cable_tv               2\n",
       "function_room          2\n",
       "grocery_store          2\n",
       "gym                    2\n",
       "internet               1\n",
       "jogging_track          1\n",
       "swimming_pool          1\n",
       "tennis_court           1\n",
       "laundry                1\n",
       "restaurant             1\n",
       "security               1\n",
       "playground             1\n",
       "dtype: int64"
      ]
     },
     "execution_count": 782,
     "metadata": {},
     "output_type": "execute_result"
    }
   ],
   "source": [
    "# check unique values\n",
    "df.nunique()"
   ]
  },
  {
   "cell_type": "markdown",
   "id": "f6a43093-c1a6-4589-8d02-9b78121f6181",
   "metadata": {},
   "source": [
    "there are some variables that all apartments have those facilities. So, we can remove it"
   ]
  },
  {
   "cell_type": "code",
   "execution_count": 790,
   "id": "2682e7c3-97f9-450f-bf65-10ab998075df",
   "metadata": {},
   "outputs": [],
   "source": [
    "df.drop(columns=df.columns[df.nunique().values==1],inplace=True)"
   ]
  },
  {
   "cell_type": "code",
   "execution_count": 788,
   "id": "34d94da6-9dca-4a69-be85-97431a39a954",
   "metadata": {},
   "outputs": [
    {
     "data": {
      "text/plain": [
       "<AxesSubplot:>"
      ]
     },
     "execution_count": 788,
     "metadata": {},
     "output_type": "execute_result"
    },
    {
     "data": {
      "image/png": "[encoded data removed]",
      "text/plain": [
       "<Figure size 1152x360 with 2 Axes>"
      ]
     },
     "metadata": {
      "needs_background": "light"
     },
     "output_type": "display_data"
    }
   ],
   "source": [
    "plt.figure(figsize=(16,5))\n",
    "sns.heatmap(df.corr(),cmap='Blues',annot=True, fmt='.1%', annot_kws={'fontsize':9})"
   ]
  },
  {
   "cell_type": "code",
   "execution_count": 791,
   "id": "f396e6b0-46fb-4654-bbf3-56961d5be731",
   "metadata": {},
   "outputs": [],
   "source": [
    "df.to_csv('D:/Data/apartment/cleaned_apartment.csv',index=False)"
   ]
  },
  {
   "cell_type": "code",
   "execution_count": 798,
   "id": "c09f67ac-1483-44f2-9fb2-fd9fe8432d5d",
   "metadata": {},
   "outputs": [
    {
     "data": {
      "text/plain": [
       "<AxesSubplot:xlabel='annual_price', ylabel='gym'>"
      ]
     },
     "execution_count": 798,
     "metadata": {},
     "output_type": "execute_result"
    },
    {
     "data": {
      "image/png": "[encoded data removed]",
      "text/plain": [
       "<Figure size 432x288 with 1 Axes>"
      ]
     },
     "metadata": {
      "needs_background": "light"
     },
     "output_type": "display_data"
    }
   ],
   "source": [
    "sns.boxplot(df.annual_price,df.gym,orient='h')"
   ]
  },
  {
   "cell_type": "code",
   "execution_count": null,
   "id": "8c8f2b0f-32e8-4fef-86e3-4fa57547f981",
   "metadata": {},
   "outputs": [],
   "source": []
  }
 ],
 "metadata": {
  "kernelspec": {
   "display_name": "Python 3 (ipykernel)",
   "language": "python",
   "name": "python3"
  },
  "language_info": {
   "codemirror_mode": {
    "name": "ipython",
    "version": 3
   },
   "file_extension": ".py",
   "mimetype": "text/x-python",
   "name": "python",
   "nbconvert_exporter": "python",
   "pygments_lexer": "ipython3",
   "version": "3.9.6"
  }
 },
 "nbformat": 4,
 "nbformat_minor": 5
}
