{
 "cells": [
  {
   "cell_type": "markdown",
   "id": "740df9e9-b448-4984-9a5c-dc30f1a059a5",
   "metadata": {},
   "source": [
    "# ****Jabodetabek Apartment Price Dataset****"
   ]
  },
  {
   "cell_type": "markdown",
   "id": "72930fb2-af12-46a9-bd5a-81eb3b71cd54",
   "metadata": {},
   "source": [
    "**Welcome**!"
   ]
  },
  {
   "cell_type": "markdown",
   "id": "696381ae-0bb3-41d5-af28-195ed2889ddb",
   "metadata": {},
   "source": [
    "This is my individual project about apartment in Jakarta and its surrounding ( Bogor, Depok, Tangerang, and Bekasi ). I got this data from scraping website *jendela360.com* ( I did web scraping in another place ) and since I collected them on **6\n",
    "January 2022**, all the informations here, including price and other features, might be different when you compare the real price on the website and the data in my notebook right now"
   ]
  },
  {
   "cell_type": "markdown",
   "id": "47e7503a-dc78-4f6a-879f-6b92b521d7af",
   "metadata": {},
   "source": [
    "So, what will we do?\n",
    "- Find out the important things that have a significance effect for model-predicting apartment prices\n",
    "- Create a model to predict the price based on our independent variables"
   ]
  },
  {
   "cell_type": "markdown",
   "id": "22d51d45-c568-4dbb-a3c1-90e2a315a73c",
   "metadata": {},
   "source": [
    "I will separate the **cleaning** and **modelling** process into different notebooks. So, here we're gonna do some cleaning stuff to make the data suitable to be input in our model later"
   ]
  },
  {
   "cell_type": "markdown",
   "id": "f7ee97ee-565f-4211-90a0-961eed266daf",
   "metadata": {},
   "source": [
    "First thing first, we have to understand the data that we have. There are 25 independent variables and one dependent variable in our dataset. Here for more details:\n",
    "1. **Apartment_name**\n",
    "2. **Link** ( we'll keep it, since if any data is detected missing while doing the cleaning process, we could check them from the link that we have )\n",
    "3. **Unit Name** ( all of these values are unique )\n",
    "4. **Area** ( The area of each unit, measured in square meters )\n",
    "5. **Room** ( Studio, 1 Bedroom, 2 Bedrooms, 3 Bedrooms, 4 Bedrooms )\n",
    "6. **Furnished** ( Fully, Semi, Unfurnished )\n",
    "7. **Bathroom** ( The number of bathrooms )\n",
    "8. **Region** ( Jakarta, Bogor, Depok, Tangerang, Bekasi )\n",
    "9. **ANNUAL PRICE** ( *LABEL / DEPENDENT VARIABLE* )\n",
    "10. **ATM**\n",
    "11. **Cable TV**\n",
    "12. **Function Room**\n",
    "13. **Grocery Store**\n",
    "14. **Gym**\n",
    "15. **Internet**\n",
    "16. **Basketball Court**\n",
    "17. **Jogging Track**\n",
    "18. **Swimming Pool**\n",
    "19. **Laundry**\n",
    "20. **Restaurant**\n",
    "21. **Security**\n",
    "22. **Playground**\n",
    "23. **AC**\n",
    "24. **Access card**\n",
    "25. **Water heater**\n",
    "26. **Washing machine**\n",
    "27. **Kitchen**\n",
    "28. **Dining set**\n",
    "29. **Fridge**\n",
    "30. **Bed**\n",
    "31. **Tv**\n",
    "32. **Full Name Apartment**\n",
    "\n",
    "number 10 till 22 above are Apartment Facilities. It means that all units which the same ***apartment_name*** have same **apartment_facilities**"
   ]
  },
  {
   "cell_type": "markdown",
   "id": "2c790400-a25c-4f8e-9726-4054bc8a4229",
   "metadata": {},
   "source": [
    "# What will we  get here?"
   ]
  },
  {
   "cell_type": "markdown",
   "id": "498f0fd7-11ab-4bcc-a842-d65df94afcf2",
   "metadata": {},
   "source": [
    "1. Jakarta Selatan is the most of number having apartment unit\n",
    "2. Average annual price based on number of rooms : 4 BR > 3 BR > 2 BR > 1 BR > Studio\n",
    "3. The larger the area, the more expensive the price\n",
    "4. There are only 2% of data that should be removed to make it suitable for the next step, modelling process ( 7420 raws into 7290 )"
   ]
  },
  {
   "cell_type": "markdown",
   "id": "f3c388cc-e2e4-47be-81db-f7bda9710c7f",
   "metadata": {},
   "source": [
    "# Cleansing Process"
   ]
  },
  {
   "cell_type": "code",
   "execution_count": 1,
   "id": "b4f64a51-235b-4ed2-9173-2351e9dfd4fe",
   "metadata": {},
   "outputs": [],
   "source": [
    "import pandas as pd\n",
    "import numpy as np\n",
    "import plotly.express as px\n",
    "import matplotlib.pyplot as plt\n",
    "import seaborn as sns\n",
    "from matplotlib.pyplot import rcParams\n",
    "import warnings\n",
    "warnings.filterwarnings('ignore')"
   ]
  },
  {
   "cell_type": "code",
   "execution_count": 2,
   "id": "6f23f0a5-197b-4989-86ae-ef54342ffa76",
   "metadata": {},
   "outputs": [],
   "source": [
    "pd.set_option('display.max_columns',100)\n",
    "rcParams['figure.figsize'] = (17,5)\n",
    "rcParams['axes.grid'] = True\n",
    "rcParams['axes.spines.right'] = False\n",
    "rcParams['axes.spines.top'] = False\n",
    "rcParams['axes.spines.left'] = False\n",
    "rcParams['boxplot.flierprops.linewidth'] = 0.6\n",
    "rcParams['boxplot.flierprops.markersize'] = 3\n",
    "rcParams['boxplot.boxprops.linewidth'] = 0.6\n",
    "plt.rc('axes',axisbelow=True)"
   ]
  },
  {
   "cell_type": "markdown",
   "id": "f726c0a2-c618-4aa6-a57a-58b40109f80b",
   "metadata": {},
   "source": [
    "***I often use the matplotlib format above in my project ( manipulate with rcParams ). Since, Imo, the output of the graph looks better than just using standard parameters***"
   ]
  },
  {
   "cell_type": "code",
   "execution_count": 3,
   "id": "7a930fcf-a780-45d7-bdb8-8c65fce83ff6",
   "metadata": {},
   "outputs": [],
   "source": [
    "df = pd.read_csv('D:/Data/apartment/fr/apartment_data.csv')"
   ]
  },
  {
   "cell_type": "code",
   "execution_count": 4,
   "id": "12f60331-8153-46a2-b53c-342a12e2f186",
   "metadata": {},
   "outputs": [
    {
     "name": "stdout",
     "output_type": "stream",
     "text": [
      "<class 'pandas.core.frame.DataFrame'>\n",
      "RangeIndex: 7452 entries, 0 to 7451\n",
      "Data columns (total 14 columns):\n",
      " #   Column                 Non-Null Count  Dtype \n",
      "---  ------                 --------------  ----- \n",
      " 0   web-scraper-order      7452 non-null   object\n",
      " 1   web-scraper-start-url  7452 non-null   object\n",
      " 2   link                   7444 non-null   object\n",
      " 3   link-href              7452 non-null   object\n",
      " 4   apt_name               7452 non-null   object\n",
      " 5   room                   7452 non-null   object\n",
      " 6   bathroom               7452 non-null   object\n",
      " 7   Furnished              7452 non-null   object\n",
      " 8   Area                   7452 non-null   object\n",
      " 9   annual_price           7452 non-null   object\n",
      " 10  apt_facilities         7372 non-null   object\n",
      " 11  unit facilities        7452 non-null   object\n",
      " 12  region                 7452 non-null   object\n",
      " 13  unit_name              7452 non-null   object\n",
      "dtypes: object(14)\n",
      "memory usage: 815.2+ KB\n"
     ]
    }
   ],
   "source": [
    "df.info()"
   ]
  },
  {
   "cell_type": "markdown",
   "id": "f7d76147-9f06-4094-a8e3-bb5abc1bc226",
   "metadata": {},
   "source": [
    "There are **7452 raws** with **14 columns**. All of data types above are objects. We have to change some of them into numeric"
   ]
  },
  {
   "cell_type": "markdown",
   "id": "4816e187-2401-4ef2-ad7c-b6e78bf14b80",
   "metadata": {},
   "source": [
    "- Some values in *apt_facilities* are missing, we'll handle it later\n",
    "- There are only **14 columns** above since the Apartment and Unit facilities haven't been broken down into per item. Besides that, we'll remove first and second columns, then change **\"link\"** into **\"full_name_apartment\"** and **\"link-href\"** to **\"link\"**"
   ]
  },
  {
   "cell_type": "markdown",
   "id": "78cc231d-dc32-4f46-8257-1ccb50a060f4",
   "metadata": {},
   "source": [
    "The *\"full_name_apartment\"* can be used **to validate** the number of rooms and type of furnished as this column contains full information about that. **We don't know if the website inputs all the information perfectly, right?** "
   ]
  },
  {
   "cell_type": "markdown",
   "id": "e437c296-91dc-41b1-a4e1-3e1f615d1a1f",
   "metadata": {},
   "source": [
    "For example ( I haven't checked it, just for example ) : In \"full_name_apartment\" column contains 'Studio type', but at the same row, the value in room column for that unit is 1BR ( They are different. When we have Studio, it means that all the unit facilities are placed in only one room including our bed. However, if we have 1BR type, there is another room besides bedroom for placing another unit facilities, such as for TV and Fridge )"
   ]
  },
  {
   "cell_type": "code",
   "execution_count": 5,
   "id": "ac7ad17e-42f9-47f0-9873-a367ea86fc18",
   "metadata": {},
   "outputs": [
    {
     "data": {
      "text/html": [
       "<div>\n",
       "<style scoped>\n",
       "    .dataframe tbody tr th:only-of-type {\n",
       "        vertical-align: middle;\n",
       "    }\n",
       "\n",
       "    .dataframe tbody tr th {\n",
       "        vertical-align: top;\n",
       "    }\n",
       "\n",
       "    .dataframe thead th {\n",
       "        text-align: right;\n",
       "    }\n",
       "</style>\n",
       "<table border=\"1\" class=\"dataframe\">\n",
       "  <thead>\n",
       "    <tr style=\"text-align: right;\">\n",
       "      <th></th>\n",
       "      <th>full_apartment_name</th>\n",
       "      <th>link</th>\n",
       "      <th>apt_name</th>\n",
       "      <th>room</th>\n",
       "      <th>bathroom</th>\n",
       "      <th>Furnished</th>\n",
       "      <th>Area</th>\n",
       "      <th>annual_price</th>\n",
       "      <th>apt_facilities</th>\n",
       "      <th>unit facilities</th>\n",
       "      <th>region</th>\n",
       "      <th>unit_name</th>\n",
       "    </tr>\n",
       "  </thead>\n",
       "  <tbody>\n",
       "    <tr>\n",
       "      <th>1867</th>\n",
       "      <td>Bassura City Apartment 2BR  Furnished</td>\n",
       "      <td>https://jendela360.com/sewa-apartemen-bassura-...</td>\n",
       "      <td>Bassura City Apartment</td>\n",
       "      <td>2 BR</td>\n",
       "      <td>1 Kamar Mandi</td>\n",
       "      <td>Fully Furnished</td>\n",
       "      <td>45 m2</td>\n",
       "      <td>55,000,000</td>\n",
       "      <td>ATMCable TVFunction RoomGrocery StoreGymIntern...</td>\n",
       "      <td>ACAccess Card(s)KitchenDining SetRefrigeratorB...</td>\n",
       "      <td>Jakarta Timur</td>\n",
       "      <td>Unit bscc334</td>\n",
       "    </tr>\n",
       "    <tr>\n",
       "      <th>7103</th>\n",
       "      <td>Mediterania Palace Kemayoran 2BR Fully Furnished</td>\n",
       "      <td>https://jendela360.com/sewa-apartemen-meditera...</td>\n",
       "      <td>Mediterania Palace Kemayoran</td>\n",
       "      <td>2 BR</td>\n",
       "      <td>1 Kamar Mandi</td>\n",
       "      <td>2 BR</td>\n",
       "      <td>36 m2</td>\n",
       "      <td>40,000,000</td>\n",
       "      <td>ATMCable TVFunction RoomGrocery StoreGymIntern...</td>\n",
       "      <td>ACAccess Card(s)KitchenDining SetRefrigeratorW...</td>\n",
       "      <td>Jakarta Pusat</td>\n",
       "      <td>Unit mpkc021</td>\n",
       "    </tr>\n",
       "  </tbody>\n",
       "</table>\n",
       "</div>"
      ],
      "text/plain": [
       "                                   full_apartment_name  \\\n",
       "1867             Bassura City Apartment 2BR  Furnished   \n",
       "7103  Mediterania Palace Kemayoran 2BR Fully Furnished   \n",
       "\n",
       "                                                   link  \\\n",
       "1867  https://jendela360.com/sewa-apartemen-bassura-...   \n",
       "7103  https://jendela360.com/sewa-apartemen-meditera...   \n",
       "\n",
       "                          apt_name  room       bathroom        Furnished  \\\n",
       "1867        Bassura City Apartment  2 BR  1 Kamar Mandi  Fully Furnished   \n",
       "7103  Mediterania Palace Kemayoran  2 BR  1 Kamar Mandi             2 BR   \n",
       "\n",
       "       Area annual_price                                     apt_facilities  \\\n",
       "1867  45 m2   55,000,000  ATMCable TVFunction RoomGrocery StoreGymIntern...   \n",
       "7103  36 m2   40,000,000  ATMCable TVFunction RoomGrocery StoreGymIntern...   \n",
       "\n",
       "                                        unit facilities         region  \\\n",
       "1867  ACAccess Card(s)KitchenDining SetRefrigeratorB...  Jakarta Timur   \n",
       "7103  ACAccess Card(s)KitchenDining SetRefrigeratorW...  Jakarta Pusat   \n",
       "\n",
       "         unit_name  \n",
       "1867  Unit bscc334  \n",
       "7103  Unit mpkc021  "
      ]
     },
     "execution_count": 5,
     "metadata": {},
     "output_type": "execute_result"
    }
   ],
   "source": [
    "df = df.drop(['web-scraper-order','web-scraper-start-url'],axis=1,errors='ignore').rename({'link':'full_apartment_name','link-href':'link'},axis=1)\n",
    "df.sample(2)"
   ]
  },
  {
   "cell_type": "markdown",
   "id": "fb875c90-917f-41d5-80d9-1528e8392979",
   "metadata": {},
   "source": [
    "# Breaking down facilities"
   ]
  },
  {
   "cell_type": "markdown",
   "id": "2b87d190-98a1-458a-a099-66cad65a85ab",
   "metadata": {},
   "source": [
    "*As previously mentioned, we have to split the facilities column*"
   ]
  },
  {
   "cell_type": "markdown",
   "id": "2390f27d-ef6c-414f-bffa-3a92a1ecb29c",
   "metadata": {},
   "source": [
    "## Apt facilites"
   ]
  },
  {
   "cell_type": "code",
   "execution_count": 6,
   "id": "272d6a49-cb80-4fff-a38e-e09ada09f6d6",
   "metadata": {},
   "outputs": [
    {
     "data": {
      "text/html": [
       "<div>\n",
       "<style scoped>\n",
       "    .dataframe tbody tr th:only-of-type {\n",
       "        vertical-align: middle;\n",
       "    }\n",
       "\n",
       "    .dataframe tbody tr th {\n",
       "        vertical-align: top;\n",
       "    }\n",
       "\n",
       "    .dataframe thead th {\n",
       "        text-align: right;\n",
       "    }\n",
       "</style>\n",
       "<table border=\"1\" class=\"dataframe\">\n",
       "  <thead>\n",
       "    <tr style=\"text-align: right;\">\n",
       "      <th></th>\n",
       "      <th>full_apartment_name</th>\n",
       "      <th>link</th>\n",
       "      <th>apt_name</th>\n",
       "      <th>room</th>\n",
       "      <th>bathroom</th>\n",
       "      <th>Furnished</th>\n",
       "      <th>Area</th>\n",
       "      <th>annual_price</th>\n",
       "      <th>apt_facilities</th>\n",
       "      <th>unit facilities</th>\n",
       "      <th>region</th>\n",
       "      <th>unit_name</th>\n",
       "      <th>atm</th>\n",
       "      <th>basketball_court</th>\n",
       "      <th>cable_tv</th>\n",
       "      <th>function_room</th>\n",
       "      <th>grocery_store</th>\n",
       "      <th>gym</th>\n",
       "      <th>internet</th>\n",
       "      <th>jogging_track</th>\n",
       "      <th>swimming_pool</th>\n",
       "      <th>tennis_court</th>\n",
       "      <th>laundry</th>\n",
       "      <th>restaurant</th>\n",
       "      <th>security</th>\n",
       "      <th>playground</th>\n",
       "    </tr>\n",
       "  </thead>\n",
       "  <tbody>\n",
       "    <tr>\n",
       "      <th>0</th>\n",
       "      <td>Thamrin Executive Residence 1BR View City</td>\n",
       "      <td>https://jendela360.com/sewa-apartemen-thamrin-...</td>\n",
       "      <td>Thamrin Executive Residence</td>\n",
       "      <td>1 BR</td>\n",
       "      <td>1 Kamar Mandi</td>\n",
       "      <td>Fully Furnished</td>\n",
       "      <td>42 m2</td>\n",
       "      <td>90,000,000</td>\n",
       "      <td>ATMBasket Ball CourtCable TVFunction RoomGroce...</td>\n",
       "      <td>ACAccess Card(s)Water HeaterKitchenDining SetR...</td>\n",
       "      <td>Jakarta Pusat</td>\n",
       "      <td>Unit terb001</td>\n",
       "      <td>0</td>\n",
       "      <td>0</td>\n",
       "      <td>0</td>\n",
       "      <td>0</td>\n",
       "      <td>0</td>\n",
       "      <td>0</td>\n",
       "      <td>0</td>\n",
       "      <td>0</td>\n",
       "      <td>0</td>\n",
       "      <td>0</td>\n",
       "      <td>0</td>\n",
       "      <td>0</td>\n",
       "      <td>0</td>\n",
       "      <td>0</td>\n",
       "    </tr>\n",
       "    <tr>\n",
       "      <th>1</th>\n",
       "      <td>Puri Orchard Apartment 1BR Non Furnished</td>\n",
       "      <td>https://jendela360.com/sewa-apartemen-puri-orc...</td>\n",
       "      <td>Puri Orchard Apartment</td>\n",
       "      <td>1 BR</td>\n",
       "      <td>1 Kamar Mandi</td>\n",
       "      <td>Non Furnished</td>\n",
       "      <td>35 m2</td>\n",
       "      <td>44,000,000</td>\n",
       "      <td>ATMCable TVFunction RoomGrocery StoreGymIntern...</td>\n",
       "      <td>ACAccess Card(s)KitchenDining SetBed(s)* Kelen...</td>\n",
       "      <td>Jakarta Barat</td>\n",
       "      <td>Unit pucb172</td>\n",
       "      <td>0</td>\n",
       "      <td>0</td>\n",
       "      <td>0</td>\n",
       "      <td>0</td>\n",
       "      <td>0</td>\n",
       "      <td>0</td>\n",
       "      <td>0</td>\n",
       "      <td>0</td>\n",
       "      <td>0</td>\n",
       "      <td>0</td>\n",
       "      <td>0</td>\n",
       "      <td>0</td>\n",
       "      <td>0</td>\n",
       "      <td>0</td>\n",
       "    </tr>\n",
       "  </tbody>\n",
       "</table>\n",
       "</div>"
      ],
      "text/plain": [
       "                         full_apartment_name  \\\n",
       "0  Thamrin Executive Residence 1BR View City   \n",
       "1   Puri Orchard Apartment 1BR Non Furnished   \n",
       "\n",
       "                                                link  \\\n",
       "0  https://jendela360.com/sewa-apartemen-thamrin-...   \n",
       "1  https://jendela360.com/sewa-apartemen-puri-orc...   \n",
       "\n",
       "                      apt_name  room       bathroom        Furnished   Area  \\\n",
       "0  Thamrin Executive Residence  1 BR  1 Kamar Mandi  Fully Furnished  42 m2   \n",
       "1       Puri Orchard Apartment  1 BR  1 Kamar Mandi    Non Furnished  35 m2   \n",
       "\n",
       "  annual_price                                     apt_facilities  \\\n",
       "0   90,000,000  ATMBasket Ball CourtCable TVFunction RoomGroce...   \n",
       "1   44,000,000  ATMCable TVFunction RoomGrocery StoreGymIntern...   \n",
       "\n",
       "                                     unit facilities         region  \\\n",
       "0  ACAccess Card(s)Water HeaterKitchenDining SetR...  Jakarta Pusat   \n",
       "1  ACAccess Card(s)KitchenDining SetBed(s)* Kelen...  Jakarta Barat   \n",
       "\n",
       "      unit_name  atm  basketball_court  cable_tv  function_room  \\\n",
       "0  Unit terb001    0                 0         0              0   \n",
       "1  Unit pucb172    0                 0         0              0   \n",
       "\n",
       "   grocery_store  gym  internet  jogging_track  swimming_pool  tennis_court  \\\n",
       "0              0    0         0              0              0             0   \n",
       "1              0    0         0              0              0             0   \n",
       "\n",
       "   laundry  restaurant  security  playground  \n",
       "0        0           0         0           0  \n",
       "1        0           0         0           0  "
      ]
     },
     "execution_count": 6,
     "metadata": {},
     "output_type": "execute_result"
    }
   ],
   "source": [
    "new_cols = ['atm','basketball_court','cable_tv','function_room','grocery_store','gym','internet','jogging_track','swimming_pool','tennis_court','laundry','restaurant','security','playground']\n",
    "df[new_cols] = pd.DataFrame([[0]*len(new_cols)],index=df.index)\n",
    "df.head(2)"
   ]
  },
  {
   "cell_type": "markdown",
   "id": "d40ad2b8-5d36-49d2-9a49-4c42cd0e1232",
   "metadata": {},
   "source": [
    "Create empty lists for each apt_facilities and input the value to assign into DataFrame"
   ]
  },
  {
   "cell_type": "code",
   "execution_count": 7,
   "id": "5d0a5c9b-3df0-473e-af63-779e031f7733",
   "metadata": {},
   "outputs": [],
   "source": [
    "def breakdown_apt_facilities(df):\n",
    "    for n,col in zip(range(len(new_cols)),new_cols):\n",
    "        globals()[col] = []\n",
    "        n += 1\n",
    "\n",
    "    # input into item variable\n",
    "    for a in df[~(df.apt_facilities.isna())][df.apt_facilities.dropna().str.lower().str.contains('atm')].index.tolist():\n",
    "        atm.append(a)\n",
    "    df.loc[atm,'atm'] = 1\n",
    "\n",
    "    for b in df[~(df.apt_facilities.isna())][df.apt_facilities.dropna().str.lower().str.contains('basket')].index.tolist():\n",
    "        basketball_court.append(b)\n",
    "    df.loc[basketball_court,'basketball_court'] = 1\n",
    "\n",
    "    for c in df[~(df.apt_facilities.isna())][df.apt_facilities.dropna().str.lower().str.contains('cable')].index.tolist():\n",
    "        cable_tv.append(c)\n",
    "    df.loc[cable_tv,'cable_tv'] = 1\n",
    "\n",
    "    for d in df[~(df.apt_facilities.isna())][df.apt_facilities.dropna().str.lower().str.contains('function')].index.tolist():\n",
    "        function_room.append(d)\n",
    "    df.loc[function_room,'function_room'] = 1\n",
    "\n",
    "    for e in df[~(df.apt_facilities.isna())][df.apt_facilities.dropna().str.lower().str.contains('grocery')].index.tolist():\n",
    "        grocery_store.append(e)\n",
    "    df.loc[grocery_store,'grocery_store'] = 1\n",
    "\n",
    "    for f in df[~(df.apt_facilities.isna())][df.apt_facilities.dropna().str.lower().str.contains('gym')].index.tolist():\n",
    "        gym.append(f)\n",
    "    df.loc[gym,'gym'] = 1\n",
    "\n",
    "    for g in df[~(df.apt_facilities.isna())][df.apt_facilities.dropna().str.lower().str.contains('interne')].index.tolist():\n",
    "        internet.append(g)\n",
    "    df.loc[internet,'internet'] = 1\n",
    "\n",
    "    for h in df[~(df.apt_facilities.isna())][df.apt_facilities.dropna().str.lower().str.contains('jogging')].index.tolist():\n",
    "        jogging_track.append(h)\n",
    "    df.loc[jogging_track,'jogging_track'] = 1\n",
    "\n",
    "    for i in df[~(df.apt_facilities.isna())][df.apt_facilities.dropna().str.lower().str.contains('pool')].index.tolist():\n",
    "        swimming_pool.append(i)\n",
    "    df.loc[swimming_pool,'swimming_pool'] = 1\n",
    "\n",
    "    for j in df[~(df.apt_facilities.isna())][df.apt_facilities.dropna().str.lower().str.contains('laundr')].index.tolist():\n",
    "        laundry.append(j)\n",
    "    df.loc[laundry,'laundry'] = 1\n",
    "\n",
    "    for k in df[~(df.apt_facilities.isna())][df.apt_facilities.dropna().str.lower().str.contains('restaura')].index.tolist():\n",
    "        restaurant.append(k)\n",
    "    df.loc[restaurant,'restaurant'] = 1\n",
    "\n",
    "    for l in df[~(df.apt_facilities.isna())][df.apt_facilities.dropna().str.lower().str.contains('securit')].index.tolist():\n",
    "        security.append(l)\n",
    "    df.loc[security,'security'] = 1\n",
    "\n",
    "    for m in df[~(df.apt_facilities.isna())][df.apt_facilities.dropna().str.lower().str.contains('playgroun')].index.tolist():\n",
    "        playground.append(m)\n",
    "    df.loc[playground,'playground'] = 1\n",
    "\n",
    "    for n in df[~(df.apt_facilities.isna())][df.apt_facilities.dropna().str.lower().str.contains('tennis')].index.tolist():\n",
    "        tennis_court.append(n)\n",
    "    df.loc[tennis_court,'tennis_court'] = 1"
   ]
  },
  {
   "cell_type": "code",
   "execution_count": 8,
   "id": "fc840cfa-1493-41d5-8b36-a4a646ac0e15",
   "metadata": {},
   "outputs": [],
   "source": [
    "breakdown_apt_facilities(df)"
   ]
  },
  {
   "cell_type": "markdown",
   "id": "34a071b4-c573-4393-a7d7-f449ac7cfadf",
   "metadata": {},
   "source": [
    "## Unit Facilities"
   ]
  },
  {
   "cell_type": "code",
   "execution_count": 9,
   "id": "fb3660c1-2e72-4b44-93ca-e07a617850a4",
   "metadata": {},
   "outputs": [],
   "source": [
    "df.replace({'unit facilities':{'Kelengkapan unit dapat berubah sewaktu-waktu. Harap pastikan terlebih dahulu ke staff Jendela360.':'',\n",
    "                               '\\* ':''\n",
    "                              }},regex=True,inplace=True)"
   ]
  },
  {
   "cell_type": "code",
   "execution_count": 10,
   "id": "e46ba755-4d8f-4575-b997-7c0483a35402",
   "metadata": {},
   "outputs": [
    {
     "data": {
      "text/plain": [
       "array(['AC',\n",
       "       'ACAccess Card(s)Water HeaterKitchenDining SetRefrigeratorWashing MachineBed(s)TV',\n",
       "       'ACAccess Card(s)Water HeaterKitchen',\n",
       "       'ACAccess Card(s)Water HeaterKitchenDining SetRefrigeratorBed(s)TV',\n",
       "       'ACAccess Card(s)Water HeaterKitchenDining SetRefrigeratorWashing MachineBed(s)TV'],\n",
       "      dtype=object)"
      ]
     },
     "execution_count": 10,
     "metadata": {},
     "output_type": "execute_result"
    }
   ],
   "source": [
    "df['unit facilities'].sample(5).values"
   ]
  },
  {
   "cell_type": "markdown",
   "id": "5d52c65f-45b1-46b6-b0d2-000f72cfe83a",
   "metadata": {},
   "source": [
    "***New column for each unit facility item***"
   ]
  },
  {
   "cell_type": "code",
   "execution_count": 11,
   "id": "a3ce6acf-7ac6-49ed-940b-ea905f169e33",
   "metadata": {
    "tags": []
   },
   "outputs": [],
   "source": [
    "new_cols1 = ['ac','access_card','water_heater','washing_machine','kitchen','dining_set','fridge','bed','tv']\n",
    "df[new_cols1] = pd.DataFrame([[0]*len(new_cols1)],index=df.index)\n",
    "\n",
    "for n, col1 in zip(range(len(new_cols1)),new_cols1):\n",
    "    globals()[col1] = []\n",
    "    n+=1\n",
    "\n",
    "unit     = df['unit facilities']\n",
    "contain  = unit.dropna().str.lower().str\n",
    "\n",
    "for aa in df[~(unit.isna())][contain.contains('ac')].index.tolist():\n",
    "    ac.append(aa)\n",
    "df.loc[ac,'ac'] = 1\n",
    "\n",
    "for bb in df[~(unit.isna())][contain.contains('card')].index.tolist():\n",
    "    access_card.append(bb)\n",
    "df.loc[access_card,'access_card'] = 1\n",
    "\n",
    "for cc in df[~(unit.isna())][contain.contains('heater')].index.tolist():\n",
    "    water_heater.append(cc)\n",
    "df.loc[water_heater,'water_heater'] = 1\n",
    "\n",
    "for dd in df[~(unit.isna())][contain.contains('machine')].index.tolist():\n",
    "    washing_machine.append(dd)\n",
    "df.loc[washing_machine,'washing_machine'] = 1\n",
    "\n",
    "for ee in df[~(unit.isna())][contain.contains('kitchen')].index.tolist():\n",
    "    kitchen.append(ee)\n",
    "df.loc[kitchen,'kitchen'] = 1\n",
    "\n",
    "for ff in df[~(unit.isna())][contain.contains('dining')].index.tolist():\n",
    "    dining_set.append(ff)\n",
    "df.loc[dining_set,'dining_set'] = 1\n",
    "\n",
    "for gg in df[~(unit.isna())][contain.contains('refrige')].index.tolist():\n",
    "    fridge.append(gg)\n",
    "df.loc[fridge,'fridge'] = 1\n",
    "\n",
    "for hh in df[~(unit.isna())][contain.contains('bed')].index.tolist():\n",
    "    bed.append(hh)\n",
    "df.loc[bed,'bed'] = 1\n",
    "\n",
    "for ii in df[~(unit.isna())][contain.contains('tv')].index.tolist():\n",
    "    tv.append(ii)\n",
    "df.loc[tv,'tv'] = 1"
   ]
  },
  {
   "cell_type": "code",
   "execution_count": 12,
   "id": "aa08019c-bff7-4860-be69-071a4dc2c9df",
   "metadata": {},
   "outputs": [
    {
     "data": {
      "text/html": [
       "<div>\n",
       "<style scoped>\n",
       "    .dataframe tbody tr th:only-of-type {\n",
       "        vertical-align: middle;\n",
       "    }\n",
       "\n",
       "    .dataframe tbody tr th {\n",
       "        vertical-align: top;\n",
       "    }\n",
       "\n",
       "    .dataframe thead th {\n",
       "        text-align: right;\n",
       "    }\n",
       "</style>\n",
       "<table border=\"1\" class=\"dataframe\">\n",
       "  <thead>\n",
       "    <tr style=\"text-align: right;\">\n",
       "      <th></th>\n",
       "      <th>full_apartment_name</th>\n",
       "      <th>link</th>\n",
       "      <th>apt_name</th>\n",
       "      <th>room</th>\n",
       "      <th>bathroom</th>\n",
       "      <th>Furnished</th>\n",
       "      <th>Area</th>\n",
       "      <th>annual_price</th>\n",
       "      <th>apt_facilities</th>\n",
       "      <th>unit facilities</th>\n",
       "      <th>region</th>\n",
       "      <th>unit_name</th>\n",
       "      <th>atm</th>\n",
       "      <th>basketball_court</th>\n",
       "      <th>cable_tv</th>\n",
       "      <th>function_room</th>\n",
       "      <th>grocery_store</th>\n",
       "      <th>gym</th>\n",
       "      <th>internet</th>\n",
       "      <th>jogging_track</th>\n",
       "      <th>swimming_pool</th>\n",
       "      <th>tennis_court</th>\n",
       "      <th>laundry</th>\n",
       "      <th>restaurant</th>\n",
       "      <th>security</th>\n",
       "      <th>playground</th>\n",
       "      <th>ac</th>\n",
       "      <th>access_card</th>\n",
       "      <th>water_heater</th>\n",
       "      <th>washing_machine</th>\n",
       "      <th>kitchen</th>\n",
       "      <th>dining_set</th>\n",
       "      <th>fridge</th>\n",
       "      <th>bed</th>\n",
       "      <th>tv</th>\n",
       "    </tr>\n",
       "  </thead>\n",
       "  <tbody>\n",
       "    <tr>\n",
       "      <th>6733</th>\n",
       "      <td>Bintaro Icon Apartment 2BR Fully Furnished</td>\n",
       "      <td>https://jendela360.com/sewa-apartemen-bintaro-...</td>\n",
       "      <td>Bintaro Icon Apartment</td>\n",
       "      <td>2 BR</td>\n",
       "      <td>1 Kamar Mandi</td>\n",
       "      <td>2 BR</td>\n",
       "      <td>35 m2</td>\n",
       "      <td>90,000,000</td>\n",
       "      <td>ATMFunction RoomGrocery StoreInternetSwimming ...</td>\n",
       "      <td>ACAccess Card(s)KitchenDining SetRefrigeratorB...</td>\n",
       "      <td>Tangerang Selatan</td>\n",
       "      <td>Unit bicc001</td>\n",
       "      <td>1</td>\n",
       "      <td>0</td>\n",
       "      <td>0</td>\n",
       "      <td>1</td>\n",
       "      <td>1</td>\n",
       "      <td>0</td>\n",
       "      <td>1</td>\n",
       "      <td>0</td>\n",
       "      <td>1</td>\n",
       "      <td>0</td>\n",
       "      <td>0</td>\n",
       "      <td>1</td>\n",
       "      <td>1</td>\n",
       "      <td>0</td>\n",
       "      <td>1</td>\n",
       "      <td>1</td>\n",
       "      <td>0</td>\n",
       "      <td>0</td>\n",
       "      <td>1</td>\n",
       "      <td>1</td>\n",
       "      <td>1</td>\n",
       "      <td>1</td>\n",
       "      <td>1</td>\n",
       "    </tr>\n",
       "    <tr>\n",
       "      <th>551</th>\n",
       "      <td>Grand Dhika City Apartment Studio Fully Furnished</td>\n",
       "      <td>https://jendela360.com/sewa-apartemen-grand-dh...</td>\n",
       "      <td>Grand Dhika City Apartment</td>\n",
       "      <td>Studio</td>\n",
       "      <td>1 Kamar Mandi</td>\n",
       "      <td>Fully Furnished</td>\n",
       "      <td>24 m2</td>\n",
       "      <td>42,000,000</td>\n",
       "      <td>Jogging TrackSwimming PoolRestaurantSecurityPl...</td>\n",
       "      <td>ACWater HeaterKitchenDining SetRefrigeratorBed...</td>\n",
       "      <td>Bekasi</td>\n",
       "      <td>Unit gdca014</td>\n",
       "      <td>0</td>\n",
       "      <td>0</td>\n",
       "      <td>0</td>\n",
       "      <td>0</td>\n",
       "      <td>0</td>\n",
       "      <td>0</td>\n",
       "      <td>0</td>\n",
       "      <td>1</td>\n",
       "      <td>1</td>\n",
       "      <td>0</td>\n",
       "      <td>0</td>\n",
       "      <td>1</td>\n",
       "      <td>1</td>\n",
       "      <td>1</td>\n",
       "      <td>1</td>\n",
       "      <td>0</td>\n",
       "      <td>1</td>\n",
       "      <td>0</td>\n",
       "      <td>1</td>\n",
       "      <td>1</td>\n",
       "      <td>1</td>\n",
       "      <td>1</td>\n",
       "      <td>1</td>\n",
       "    </tr>\n",
       "  </tbody>\n",
       "</table>\n",
       "</div>"
      ],
      "text/plain": [
       "                                    full_apartment_name  \\\n",
       "6733         Bintaro Icon Apartment 2BR Fully Furnished   \n",
       "551   Grand Dhika City Apartment Studio Fully Furnished   \n",
       "\n",
       "                                                   link  \\\n",
       "6733  https://jendela360.com/sewa-apartemen-bintaro-...   \n",
       "551   https://jendela360.com/sewa-apartemen-grand-dh...   \n",
       "\n",
       "                        apt_name    room       bathroom        Furnished  \\\n",
       "6733      Bintaro Icon Apartment    2 BR  1 Kamar Mandi             2 BR   \n",
       "551   Grand Dhika City Apartment  Studio  1 Kamar Mandi  Fully Furnished   \n",
       "\n",
       "       Area annual_price                                     apt_facilities  \\\n",
       "6733  35 m2   90,000,000  ATMFunction RoomGrocery StoreInternetSwimming ...   \n",
       "551   24 m2   42,000,000  Jogging TrackSwimming PoolRestaurantSecurityPl...   \n",
       "\n",
       "                                        unit facilities             region  \\\n",
       "6733  ACAccess Card(s)KitchenDining SetRefrigeratorB...  Tangerang Selatan   \n",
       "551   ACWater HeaterKitchenDining SetRefrigeratorBed...             Bekasi   \n",
       "\n",
       "         unit_name  atm  basketball_court  cable_tv  function_room  \\\n",
       "6733  Unit bicc001    1                 0         0              1   \n",
       "551   Unit gdca014    0                 0         0              0   \n",
       "\n",
       "      grocery_store  gym  internet  jogging_track  swimming_pool  \\\n",
       "6733              1    0         1              0              1   \n",
       "551               0    0         0              1              1   \n",
       "\n",
       "      tennis_court  laundry  restaurant  security  playground  ac  \\\n",
       "6733             0        0           1         1           0   1   \n",
       "551              0        0           1         1           1   1   \n",
       "\n",
       "      access_card  water_heater  washing_machine  kitchen  dining_set  fridge  \\\n",
       "6733            1             0                0        1           1       1   \n",
       "551             0             1                0        1           1       1   \n",
       "\n",
       "      bed  tv  \n",
       "6733    1   1  \n",
       "551     1   1  "
      ]
     },
     "execution_count": 12,
     "metadata": {},
     "output_type": "execute_result"
    }
   ],
   "source": [
    "df.sample(2)"
   ]
  },
  {
   "cell_type": "markdown",
   "id": "8634a136-7e45-4dd7-81f4-b5ed55e479e3",
   "metadata": {},
   "source": [
    "# Fixing values in bathroom, furnished, and area columns"
   ]
  },
  {
   "cell_type": "code",
   "execution_count": 13,
   "id": "601917e4-73a2-45ac-8898-78414b71dbba",
   "metadata": {},
   "outputs": [
    {
     "data": {
      "text/html": [
       "<div>\n",
       "<style scoped>\n",
       "    .dataframe tbody tr th:only-of-type {\n",
       "        vertical-align: middle;\n",
       "    }\n",
       "\n",
       "    .dataframe tbody tr th {\n",
       "        vertical-align: top;\n",
       "    }\n",
       "\n",
       "    .dataframe thead th {\n",
       "        text-align: right;\n",
       "    }\n",
       "</style>\n",
       "<table border=\"1\" class=\"dataframe\">\n",
       "  <thead>\n",
       "    <tr style=\"text-align: right;\">\n",
       "      <th></th>\n",
       "      <th>full_apartment_name</th>\n",
       "      <th>link</th>\n",
       "      <th>apt_name</th>\n",
       "      <th>room</th>\n",
       "      <th>bathroom</th>\n",
       "      <th>Furnished</th>\n",
       "      <th>Area</th>\n",
       "      <th>annual_price</th>\n",
       "      <th>apt_facilities</th>\n",
       "      <th>unit facilities</th>\n",
       "      <th>region</th>\n",
       "      <th>unit_name</th>\n",
       "      <th>atm</th>\n",
       "      <th>basketball_court</th>\n",
       "      <th>cable_tv</th>\n",
       "      <th>function_room</th>\n",
       "      <th>grocery_store</th>\n",
       "      <th>gym</th>\n",
       "      <th>internet</th>\n",
       "      <th>jogging_track</th>\n",
       "      <th>swimming_pool</th>\n",
       "      <th>tennis_court</th>\n",
       "      <th>laundry</th>\n",
       "      <th>restaurant</th>\n",
       "      <th>security</th>\n",
       "      <th>playground</th>\n",
       "      <th>ac</th>\n",
       "      <th>access_card</th>\n",
       "      <th>water_heater</th>\n",
       "      <th>washing_machine</th>\n",
       "      <th>kitchen</th>\n",
       "      <th>dining_set</th>\n",
       "      <th>fridge</th>\n",
       "      <th>bed</th>\n",
       "      <th>tv</th>\n",
       "    </tr>\n",
       "  </thead>\n",
       "  <tbody>\n",
       "    <tr>\n",
       "      <th>7304</th>\n",
       "      <td>Bintaro Park View 2BR Fully Furnished</td>\n",
       "      <td>https://jendela360.com/sewa-apartemen-bintaro-...</td>\n",
       "      <td>Bintaro Park View</td>\n",
       "      <td>2 BR</td>\n",
       "      <td>1 Kamar Mandi</td>\n",
       "      <td>2 BR</td>\n",
       "      <td>38 m2</td>\n",
       "      <td>57,110,000</td>\n",
       "      <td>ATMCable TVFunction RoomGrocery StoreGymIntern...</td>\n",
       "      <td>ACAccess Card(s)KitchenDining SetRefrigeratorB...</td>\n",
       "      <td>Jakarta Selatan</td>\n",
       "      <td>Unit bpvc003</td>\n",
       "      <td>1</td>\n",
       "      <td>0</td>\n",
       "      <td>1</td>\n",
       "      <td>1</td>\n",
       "      <td>1</td>\n",
       "      <td>1</td>\n",
       "      <td>1</td>\n",
       "      <td>1</td>\n",
       "      <td>1</td>\n",
       "      <td>0</td>\n",
       "      <td>1</td>\n",
       "      <td>1</td>\n",
       "      <td>1</td>\n",
       "      <td>1</td>\n",
       "      <td>1</td>\n",
       "      <td>1</td>\n",
       "      <td>0</td>\n",
       "      <td>0</td>\n",
       "      <td>1</td>\n",
       "      <td>1</td>\n",
       "      <td>1</td>\n",
       "      <td>1</td>\n",
       "      <td>1</td>\n",
       "    </tr>\n",
       "    <tr>\n",
       "      <th>6357</th>\n",
       "      <td>Puri Orchard Apartment 1BR Semi Furnished</td>\n",
       "      <td>https://jendela360.com/sewa-apartemen-puri-orc...</td>\n",
       "      <td>Puri Orchard Apartment</td>\n",
       "      <td>1 BR</td>\n",
       "      <td>1 Kamar Mandi</td>\n",
       "      <td>1 BR</td>\n",
       "      <td>21 m2</td>\n",
       "      <td>32,000,000</td>\n",
       "      <td>ATMCable TVFunction RoomGrocery StoreGymIntern...</td>\n",
       "      <td>ACAccess Card(s)KitchenBed(s)</td>\n",
       "      <td>Jakarta Barat</td>\n",
       "      <td>Unit pucb164</td>\n",
       "      <td>1</td>\n",
       "      <td>0</td>\n",
       "      <td>1</td>\n",
       "      <td>1</td>\n",
       "      <td>1</td>\n",
       "      <td>1</td>\n",
       "      <td>1</td>\n",
       "      <td>0</td>\n",
       "      <td>1</td>\n",
       "      <td>1</td>\n",
       "      <td>1</td>\n",
       "      <td>1</td>\n",
       "      <td>1</td>\n",
       "      <td>1</td>\n",
       "      <td>1</td>\n",
       "      <td>1</td>\n",
       "      <td>0</td>\n",
       "      <td>0</td>\n",
       "      <td>1</td>\n",
       "      <td>0</td>\n",
       "      <td>0</td>\n",
       "      <td>1</td>\n",
       "      <td>0</td>\n",
       "    </tr>\n",
       "    <tr>\n",
       "      <th>5902</th>\n",
       "      <td>Signature Park Grande 2BR Fully Furnished</td>\n",
       "      <td>https://jendela360.com/sewa-apartemen-signatur...</td>\n",
       "      <td>Signature Park Grande</td>\n",
       "      <td>2 BR</td>\n",
       "      <td>1 Kamar Mandi</td>\n",
       "      <td>2 BR</td>\n",
       "      <td>32 m2</td>\n",
       "      <td>70,600,000</td>\n",
       "      <td>ATMCable TVFunction RoomGrocery StoreGymIntern...</td>\n",
       "      <td>ACAccess Card(s)Water HeaterKitchenRefrigerato...</td>\n",
       "      <td>Jakarta Timur</td>\n",
       "      <td>Unit sgpc067</td>\n",
       "      <td>1</td>\n",
       "      <td>0</td>\n",
       "      <td>1</td>\n",
       "      <td>1</td>\n",
       "      <td>1</td>\n",
       "      <td>1</td>\n",
       "      <td>1</td>\n",
       "      <td>0</td>\n",
       "      <td>1</td>\n",
       "      <td>0</td>\n",
       "      <td>1</td>\n",
       "      <td>1</td>\n",
       "      <td>1</td>\n",
       "      <td>1</td>\n",
       "      <td>1</td>\n",
       "      <td>1</td>\n",
       "      <td>1</td>\n",
       "      <td>1</td>\n",
       "      <td>1</td>\n",
       "      <td>0</td>\n",
       "      <td>1</td>\n",
       "      <td>1</td>\n",
       "      <td>1</td>\n",
       "    </tr>\n",
       "  </tbody>\n",
       "</table>\n",
       "</div>"
      ],
      "text/plain": [
       "                            full_apartment_name  \\\n",
       "7304      Bintaro Park View 2BR Fully Furnished   \n",
       "6357  Puri Orchard Apartment 1BR Semi Furnished   \n",
       "5902  Signature Park Grande 2BR Fully Furnished   \n",
       "\n",
       "                                                   link  \\\n",
       "7304  https://jendela360.com/sewa-apartemen-bintaro-...   \n",
       "6357  https://jendela360.com/sewa-apartemen-puri-orc...   \n",
       "5902  https://jendela360.com/sewa-apartemen-signatur...   \n",
       "\n",
       "                    apt_name  room       bathroom Furnished   Area  \\\n",
       "7304       Bintaro Park View  2 BR  1 Kamar Mandi      2 BR  38 m2   \n",
       "6357  Puri Orchard Apartment  1 BR  1 Kamar Mandi      1 BR  21 m2   \n",
       "5902   Signature Park Grande  2 BR  1 Kamar Mandi      2 BR  32 m2   \n",
       "\n",
       "     annual_price                                     apt_facilities  \\\n",
       "7304   57,110,000  ATMCable TVFunction RoomGrocery StoreGymIntern...   \n",
       "6357   32,000,000  ATMCable TVFunction RoomGrocery StoreGymIntern...   \n",
       "5902   70,600,000  ATMCable TVFunction RoomGrocery StoreGymIntern...   \n",
       "\n",
       "                                        unit facilities           region  \\\n",
       "7304  ACAccess Card(s)KitchenDining SetRefrigeratorB...  Jakarta Selatan   \n",
       "6357                      ACAccess Card(s)KitchenBed(s)    Jakarta Barat   \n",
       "5902  ACAccess Card(s)Water HeaterKitchenRefrigerato...    Jakarta Timur   \n",
       "\n",
       "         unit_name  atm  basketball_court  cable_tv  function_room  \\\n",
       "7304  Unit bpvc003    1                 0         1              1   \n",
       "6357  Unit pucb164    1                 0         1              1   \n",
       "5902  Unit sgpc067    1                 0         1              1   \n",
       "\n",
       "      grocery_store  gym  internet  jogging_track  swimming_pool  \\\n",
       "7304              1    1         1              1              1   \n",
       "6357              1    1         1              0              1   \n",
       "5902              1    1         1              0              1   \n",
       "\n",
       "      tennis_court  laundry  restaurant  security  playground  ac  \\\n",
       "7304             0        1           1         1           1   1   \n",
       "6357             1        1           1         1           1   1   \n",
       "5902             0        1           1         1           1   1   \n",
       "\n",
       "      access_card  water_heater  washing_machine  kitchen  dining_set  fridge  \\\n",
       "7304            1             0                0        1           1       1   \n",
       "6357            1             0                0        1           0       0   \n",
       "5902            1             1                1        1           0       1   \n",
       "\n",
       "      bed  tv  \n",
       "7304    1   1  \n",
       "6357    1   0  \n",
       "5902    1   1  "
      ]
     },
     "execution_count": 13,
     "metadata": {},
     "output_type": "execute_result"
    }
   ],
   "source": [
    "df[(df.Furnished.str.contains('m2')|(df.Furnished.str.contains('BR')))].sample(3)"
   ]
  },
  {
   "cell_type": "markdown",
   "id": "b71969b6-89ae-477a-aaa7-6eb6890f84e3",
   "metadata": {},
   "source": [
    "The values in three columns above are incorrect. We have to shift them"
   ]
  },
  {
   "cell_type": "code",
   "execution_count": 14,
   "id": "d66b6cb1-a4ff-4ac6-8c24-6958b66824ff",
   "metadata": {},
   "outputs": [],
   "source": [
    "furnished = df[df.bathroom.str.contains('Furnished')].bathroom\n",
    "area = df[df.Furnished.str.contains('m2')].Furnished"
   ]
  },
  {
   "cell_type": "code",
   "execution_count": 15,
   "id": "2b6d3a6c-5b8a-4667-8ede-bee255bd0d72",
   "metadata": {},
   "outputs": [],
   "source": [
    "df.loc[furnished.index,'Furnished'] = furnished.values\n",
    "df.loc[area.index,'Area'] = area.values"
   ]
  },
  {
   "cell_type": "markdown",
   "id": "70b61625-ed0b-4ce5-a87d-64c4dca205ed",
   "metadata": {},
   "source": [
    "Make : ***bathroom doesn't contain 'Kamar Mandi'***,  ***furnished contains 'BR'***, and ***Area does not contain 'm2'*** into **ZERO**"
   ]
  },
  {
   "cell_type": "markdown",
   "id": "ca3f3e05-2473-404a-9a2e-f6bff5fbd7b0",
   "metadata": {},
   "source": [
    "Then, we will validate them with the *\"full_apartment_name\"*"
   ]
  },
  {
   "cell_type": "code",
   "execution_count": 16,
   "id": "d541ccb7-c921-4eba-b6be-2b932c1185b1",
   "metadata": {},
   "outputs": [],
   "source": [
    "df.loc[area.index.tolist()+furnished.index.tolist(),'bathroom'] = '0'\n",
    "df.loc[df[df.Furnished.str.contains('BR')].index,'Furnished'] = '0'\n",
    "df.loc[df[~(df.Area.str.contains('m2'))].index,'Area'] = '0'"
   ]
  },
  {
   "cell_type": "markdown",
   "id": "b54a2e95-f1b8-41ed-94c1-89c137b8ec45",
   "metadata": {},
   "source": [
    "**Furnished**"
   ]
  },
  {
   "cell_type": "code",
   "execution_count": 17,
   "id": "cdde0c66-d6ee-4e56-aadb-67bc0e17aa53",
   "metadata": {},
   "outputs": [],
   "source": [
    "no_nan_df = df.full_apartment_name.isna() \n",
    "\n",
    "nonfurnished          = df.full_apartment_name.dropna().str.contains('Non Furnished')\n",
    "nonfurnished_idx_full = df[~no_nan_df][(df.Furnished=='0')&(nonfurnished)].index\n",
    "\n",
    "semifurnished = df.full_apartment_name.dropna().str.contains('Semi Furnished')\n",
    "semifurnished_idx_full = df[~no_nan_df][(df.Furnished=='0')&(semifurnished)].index\n",
    "\n",
    "fullfurnished = df.full_apartment_name.dropna().str.contains('Fully Furnished')\n",
    "fullfurnished_idx_full = df[~no_nan_df][(df.Furnished=='0')&(fullfurnished)].index\n",
    "\n",
    "fullfurnished1 = df.full_apartment_name.dropna().str.contains('Full Furnis')\n",
    "fullfurnished_idx_full1 = df[~no_nan_df][(df.Furnished=='0')&(fullfurnished1)].index\n",
    "\n",
    "#Change dataframe Furnished column\n",
    "df.loc[nonfurnished_idx_full,'Furnished'] = 'Non Furnished'\n",
    "df.loc[semifurnished_idx_full,'Furnished'] = 'Semi Furnished'\n",
    "df.loc[fullfurnished_idx_full.tolist()+fullfurnished_idx_full1.tolist(),'Furnished'] = 'Fully Furnished'"
   ]
  },
  {
   "cell_type": "markdown",
   "id": "8eed5063-f6fc-4621-bbb4-994ded2ef1da",
   "metadata": {},
   "source": [
    "After non furnished and semi furnished were **fixed**, we will assign 'full_apartment_name' that only contains('Furnished') into Fully Furnished type since most of them that only contains 'Furnished' are 'Fully Furnished'. So, we will use that information to assign the Furnished which still NaN"
   ]
  },
  {
   "cell_type": "code",
   "execution_count": 18,
   "id": "11c46119-b911-4f1b-9fd8-73dad6b0bab5",
   "metadata": {},
   "outputs": [],
   "source": [
    "furnished = df.drop(index=df[~no_nan_df][fullfurnished].index.tolist()+df[~no_nan_df][fullfurnished1].index.tolist()+df[~no_nan_df][nonfurnished].index.tolist()+df[~no_nan_df][semifurnished].index.tolist())\n",
    "df.loc[furnished[~(furnished.full_apartment_name.isna())][(furnished.full_apartment_name.dropna().str.contains('Furnished')&(furnished.Furnished=='0'))].index,'Furnished']='Fully Furnished'"
   ]
  },
  {
   "cell_type": "markdown",
   "id": "2bdab550-b59f-468f-a955-9ee30d8ac40b",
   "metadata": {},
   "source": [
    "# Handling the columns that still have missing values"
   ]
  },
  {
   "cell_type": "code",
   "execution_count": 19,
   "id": "6f862bee-3f9c-450a-8270-5df334fc9b2f",
   "metadata": {},
   "outputs": [],
   "source": [
    "df.loc[df[df.Furnished=='Studio'].index,'Furnished'] = '0'\n",
    "df.loc[df[df.Furnished=='0'].index,'Furnished'] = np.nan\n",
    "df.loc[df[df.Area=='0'].index,'Area'] = np.nan"
   ]
  },
  {
   "cell_type": "code",
   "execution_count": 20,
   "id": "ba616165-8bc7-4dac-8efd-879e4fc609a0",
   "metadata": {},
   "outputs": [
    {
     "data": {
      "text/plain": [
       "full_apartment_name       8\n",
       "link                      0\n",
       "apt_name                  0\n",
       "room                      0\n",
       "bathroom                  0\n",
       "Furnished              1124\n",
       "Area                    110\n",
       "annual_price              0\n",
       "apt_facilities           80\n",
       "unit facilities           0\n",
       "region                    0\n",
       "unit_name                 0\n",
       "atm                       0\n",
       "basketball_court          0\n",
       "cable_tv                  0\n",
       "function_room             0\n",
       "grocery_store             0\n",
       "gym                       0\n",
       "internet                  0\n",
       "jogging_track             0\n",
       "swimming_pool             0\n",
       "tennis_court              0\n",
       "laundry                   0\n",
       "restaurant                0\n",
       "security                  0\n",
       "playground                0\n",
       "ac                        0\n",
       "access_card               0\n",
       "water_heater              0\n",
       "washing_machine           0\n",
       "kitchen                   0\n",
       "dining_set                0\n",
       "fridge                    0\n",
       "bed                       0\n",
       "tv                        0\n",
       "dtype: int64"
      ]
     },
     "execution_count": 20,
     "metadata": {},
     "output_type": "execute_result"
    }
   ],
   "source": [
    "df.isna().sum()"
   ]
  },
  {
   "cell_type": "markdown",
   "id": "37557f20-5531-41fe-8ebc-4e307dc11563",
   "metadata": {},
   "source": [
    "We will impute four columns above (  *full_apartment_name*, *Furnished*, *apt_facilities*, *Area* ) with statistical methods for now. If there are detected some abnormal or not suitable with other columns, we will take care of that later in **Handling Outliers section**"
   ]
  },
  {
   "cell_type": "code",
   "execution_count": 21,
   "id": "a2aa1a72-6b90-4f9e-811a-b8b73ff28dcd",
   "metadata": {},
   "outputs": [],
   "source": [
    "df.replace({'Area':{'m2':''}},regex=True,inplace=True)\n",
    "df['Area'] = df['Area'].astype(float)"
   ]
  },
  {
   "cell_type": "code",
   "execution_count": 22,
   "id": "965fc330-486f-4cff-be8c-b3372fff2377",
   "metadata": {},
   "outputs": [],
   "source": [
    "cat_na = df.columns[df.isna().sum()>0].tolist()\n",
    "cat_na.remove('Area')\n",
    "df['Area'].fillna(df['Area'].median(),inplace=True)\n",
    "\n",
    "for i in cat_na:\n",
    "    df[i].fillna(df[i].mode()[0],inplace=True)"
   ]
  },
  {
   "cell_type": "markdown",
   "id": "ce5e2c5e-3c69-4bf8-add0-734541df9188",
   "metadata": {},
   "source": [
    "Don't forget to **break down** the **apartment facilities** *( Actually, I want to do this section for the first, but for make the notebook structure neatly, we will do that here. That's why I create the function for apt facilities )*"
   ]
  },
  {
   "cell_type": "code",
   "execution_count": 23,
   "id": "a20d4293-1859-43f0-aaba-7d57b9e51088",
   "metadata": {},
   "outputs": [],
   "source": [
    "breakdown_apt_facilities(df)"
   ]
  },
  {
   "cell_type": "markdown",
   "id": "ce0d87c2-d4af-477c-834d-8cef4407b778",
   "metadata": {},
   "source": [
    "Validate *'studio' furnished* with *full_apartment_name* values since 'studio' should be in \"room\", **not in Furnished**"
   ]
  },
  {
   "cell_type": "code",
   "execution_count": 24,
   "id": "9a54df9d-5582-42df-a962-600cad4da03c",
   "metadata": {},
   "outputs": [],
   "source": [
    "df.loc[df[df.Furnished=='Studio'][df[df.Furnished=='Studio'].full_apartment_name.str.contains('Fully Furnished')].index,'Furnished'] = 'Fully Furnished'\n",
    "df.loc[df[df.Furnished=='Studio'][df[df.Furnished=='Studio'].full_apartment_name.str.contains('Non Furnished')].index,'Furnished'] = 'Non Furnished'\n",
    "df.loc[df[df.Furnished=='Studio'][df[df.Furnished=='Studio'].full_apartment_name.str.contains('Semi Furnished')].index,'Furnished'] = 'Semi Furnished'"
   ]
  },
  {
   "cell_type": "code",
   "execution_count": null,
   "id": "e0b713a8-9f94-4bf8-a8bb-ae16a5083d53",
   "metadata": {},
   "outputs": [],
   "source": []
  },
  {
   "cell_type": "markdown",
   "id": "e794e961-1c49-4b26-acaf-8821c5e4c2f4",
   "metadata": {},
   "source": [
    "# Region"
   ]
  },
  {
   "cell_type": "markdown",
   "id": "8a40dcf9-77af-4110-93b2-72f27ad4c167",
   "metadata": {},
   "source": [
    "We only put **Jakarta** region and its surrounding ( *Bogor, Tangerang, Depok, Bekasi* )"
   ]
  },
  {
   "cell_type": "code",
   "execution_count": 25,
   "id": "2ba9b58c-f7f6-475e-96b2-574b1548c06d",
   "metadata": {},
   "outputs": [
    {
     "data": {
      "text/plain": [
       "Jakarta Selatan      2180\n",
       "Jakarta Barat        1661\n",
       "Jakarta Pusat        1398\n",
       "Tangerang             596\n",
       "Jakarta Timur         522\n",
       "Jakarta Utara         474\n",
       "Tangerang Selatan     248\n",
       "Bekasi                162\n",
       "Depok                 157\n",
       "Surabaya               24\n",
       "Bandung                23\n",
       "Bogor                   3\n",
       "Sumedang                1\n",
       "Karawang                1\n",
       "Semarang                1\n",
       "Sidoarjo                1\n",
       "Name: region, dtype: int64"
      ]
     },
     "execution_count": 25,
     "metadata": {},
     "output_type": "execute_result"
    }
   ],
   "source": [
    "df.region.value_counts()"
   ]
  },
  {
   "cell_type": "code",
   "execution_count": 26,
   "id": "894aa8d9-ed21-4ab3-bff9-bf2c92f7bb52",
   "metadata": {},
   "outputs": [
    {
     "data": {
      "image/png": "[encoded data removed]",
      "text/plain": [
       "<Figure size 1296x288 with 1 Axes>"
      ]
     },
     "metadata": {
      "needs_background": "light"
     },
     "output_type": "display_data"
    }
   ],
   "source": [
    "df = df[(df.region.str.contains('Jakarta'))|(df.region.str.contains('Depok'))|(df.region.str.contains('Tangerang'))|(df.region.str.contains('Bekasi'))|(df.region.str.contains('Bogor'))]\n",
    "plt.figure(figsize=(18,4))\n",
    "sns.countplot(df.region,color='tab:blue',order=df.region.value_counts().index)\n",
    "plt.ylabel('')\n",
    "plt.xlabel('')\n",
    "plt.show()"
   ]
  },
  {
   "cell_type": "markdown",
   "id": "1d08af2a-5890-4489-9cca-0e6129e8c182",
   "metadata": {},
   "source": [
    "**Jakarta Selatan** is the most here. Also we can look that 'Jakarta' region **have more unit** than **its surronding** *( Tangerang, Bogor, Depok, and Bekasi )*"
   ]
  },
  {
   "cell_type": "markdown",
   "id": "8798026e-6053-4192-a3c0-8b23185e71c1",
   "metadata": {},
   "source": [
    "Instead in the form of region name, we will change it into **longitude** and **latitude** forms"
   ]
  },
  {
   "cell_type": "code",
   "execution_count": 27,
   "id": "533f8bba-4eb2-4bf5-85fb-44b4d527c5c9",
   "metadata": {},
   "outputs": [],
   "source": [
    "df['Latitude'] = 0\n",
    "df['Longitude'] = 0"
   ]
  },
  {
   "cell_type": "code",
   "execution_count": 28,
   "id": "036edd41-a84d-4a68-ae14-d6c93d1e9f68",
   "metadata": {},
   "outputs": [],
   "source": [
    "jaksel = df[df.region=='Jakarta Selatan']\n",
    "jakut =  df[df.region=='Jakarta Utara']\n",
    "jaktim =  df[df.region=='Jakarta Timur']\n",
    "jakbar =  df[df.region=='Jakarta Barat']\n",
    "jakpus =  df[df.region=='Jakarta Pusat']\n",
    "depok =  df[df.region=='Depok']\n",
    "tangsel =  df[df.region=='Tangerang Selatan']\n",
    "bekasi =  df[df.region=='Bekasi']\n",
    "bogor =  df[df.region=='Bogor']\n",
    "tangerang =  df[df.region=='Tangerang']"
   ]
  },
  {
   "cell_type": "code",
   "execution_count": 29,
   "id": "ca71c98e-e4ed-4d9d-8711-64fcef044ab0",
   "metadata": {},
   "outputs": [],
   "source": [
    "df.loc[jaksel.index,'Latitude']  = -6.261493\n",
    "df.loc[jaksel.index,'Longitude'] = 106.810600\n",
    "df.loc[jakpus.index,'Latitude']  = -6.1805\n",
    "df.loc[jakpus.index,'Longitude'] = 106.8284\n",
    "df.loc[jakut.index,'Latitude'] = -6.138414\n",
    "df.loc[jakut.index,'Longitude'] = 106.8927\n",
    "df.loc[jaktim.index,'Latitude'] = -6.225014\n",
    "df.loc[jaktim.index,'Longitude'] = 106.9004\n",
    "df.loc[jakbar.index,'Latitude'] = -6.1674\n",
    "df.loc[jakbar.index,'Longitude'] = 106.7637\n",
    "df.loc[bogor.index,'Latitude'] = -6.5518\n",
    "df.loc[bogor.index,'Longitude'] = 106.6291\n",
    "df.loc[depok.index,'Latitude'] = -6.4025\n",
    "df.loc[depok.index,'Longitude'] = 106.7942\n",
    "df.loc[tangsel.index,'Latitude'] = -6.2835\n",
    "df.loc[tangsel.index,'Longitude'] = 106.7113\n",
    "df.loc[tangerang.index,'Latitude'] = -6.1702\n",
    "df.loc[tangerang.index,'Longitude'] = 106.6403\n",
    "df.loc[bekasi.index,'Latitude'] = -6.2734\n",
    "df.loc[bekasi.index,'Longitude'] = 106.9831"
   ]
  },
  {
   "cell_type": "markdown",
   "id": "f5ad136e-5bc8-403c-bb78-08098ecae897",
   "metadata": {},
   "source": [
    "# Understand the Data with Visualization"
   ]
  },
  {
   "cell_type": "markdown",
   "id": "ff3083ff-36fa-408b-ac3a-f06be6392712",
   "metadata": {},
   "source": [
    "- Since the apt facilities and unit facilities seem to have no meaning anymore, we will remove them for computational and time efficiency\n",
    "- Remove 'm2' in Area column"
   ]
  },
  {
   "cell_type": "code",
   "execution_count": 30,
   "id": "9c885a30-6948-4502-82e5-7807b9cdebdf",
   "metadata": {},
   "outputs": [],
   "source": [
    "df_new = df.copy().drop(['apt_name','apt_facilities','unit facilities'],axis=1)"
   ]
  },
  {
   "cell_type": "markdown",
   "id": "c3ad8cad-73ac-4447-a62c-b5ed13f00207",
   "metadata": {},
   "source": [
    "Change some columns into numerical type"
   ]
  },
  {
   "cell_type": "code",
   "execution_count": 31,
   "id": "fd4b7757-438a-47d1-8d7f-6b604fca7551",
   "metadata": {},
   "outputs": [],
   "source": [
    "df_new['annual_price'] = df_new.annual_price.apply(lambda x:str(x).replace(',','')).astype(int)\n",
    "df_new['bathroom'] = df_new.bathroom.apply(lambda y:str(y).replace('Kamar Mandi',''))"
   ]
  },
  {
   "cell_type": "markdown",
   "id": "0c74664a-8b24-4060-a479-c16882254282",
   "metadata": {},
   "source": [
    "## Numerical columns"
   ]
  },
  {
   "cell_type": "code",
   "execution_count": 32,
   "id": "f3344eee-4937-4c2b-94e0-0bae7326100f",
   "metadata": {},
   "outputs": [
    {
     "data": {
      "image/png": "[encoded data removed]",
      "text/plain": [
       "<Figure size 2016x360 with 3 Axes>"
      ]
     },
     "metadata": {
      "needs_background": "light"
     },
     "output_type": "display_data"
    }
   ],
   "source": [
    "num = ['Area','Longitude','Latitude']\n",
    "\n",
    "plt.figure(figsize=(28,5))\n",
    "for col in range(len(num)):\n",
    "    plt.subplot(1,3,col+1)\n",
    "    sns.scatterplot(df_new[num[col]],df_new.annual_price)"
   ]
  },
  {
   "cell_type": "markdown",
   "id": "1af0fc42-7fa1-425d-acc3-8d5098b9dbfc",
   "metadata": {},
   "source": [
    "### Area"
   ]
  },
  {
   "cell_type": "markdown",
   "id": "c78f140f-f074-4ca9-9899-fe735d59cb5f",
   "metadata": {},
   "source": [
    "Check area outliers"
   ]
  },
  {
   "cell_type": "code",
   "execution_count": 33,
   "id": "495067d7-d8b3-43e3-845d-5ac933a21bd2",
   "metadata": {},
   "outputs": [
    {
     "data": {
      "text/html": [
       "<div>\n",
       "<style scoped>\n",
       "    .dataframe tbody tr th:only-of-type {\n",
       "        vertical-align: middle;\n",
       "    }\n",
       "\n",
       "    .dataframe tbody tr th {\n",
       "        vertical-align: top;\n",
       "    }\n",
       "\n",
       "    .dataframe thead th {\n",
       "        text-align: right;\n",
       "    }\n",
       "</style>\n",
       "<table border=\"1\" class=\"dataframe\">\n",
       "  <thead>\n",
       "    <tr style=\"text-align: right;\">\n",
       "      <th></th>\n",
       "      <th>full_apartment_name</th>\n",
       "      <th>link</th>\n",
       "      <th>room</th>\n",
       "      <th>bathroom</th>\n",
       "      <th>Furnished</th>\n",
       "      <th>Area</th>\n",
       "      <th>annual_price</th>\n",
       "      <th>region</th>\n",
       "      <th>unit_name</th>\n",
       "      <th>atm</th>\n",
       "      <th>basketball_court</th>\n",
       "      <th>cable_tv</th>\n",
       "      <th>function_room</th>\n",
       "      <th>grocery_store</th>\n",
       "      <th>gym</th>\n",
       "      <th>internet</th>\n",
       "      <th>jogging_track</th>\n",
       "      <th>swimming_pool</th>\n",
       "      <th>tennis_court</th>\n",
       "      <th>laundry</th>\n",
       "      <th>restaurant</th>\n",
       "      <th>security</th>\n",
       "      <th>playground</th>\n",
       "      <th>ac</th>\n",
       "      <th>access_card</th>\n",
       "      <th>water_heater</th>\n",
       "      <th>washing_machine</th>\n",
       "      <th>kitchen</th>\n",
       "      <th>dining_set</th>\n",
       "      <th>fridge</th>\n",
       "      <th>bed</th>\n",
       "      <th>tv</th>\n",
       "      <th>Latitude</th>\n",
       "      <th>Longitude</th>\n",
       "    </tr>\n",
       "  </thead>\n",
       "  <tbody>\n",
       "    <tr>\n",
       "      <th>244</th>\n",
       "      <td>Puri Orchard Apartment 1BR Fully Furnished</td>\n",
       "      <td>https://jendela360.com/sewa-apartemen-puri-orc...</td>\n",
       "      <td>1 BR</td>\n",
       "      <td>1</td>\n",
       "      <td>Fully Furnished</td>\n",
       "      <td>35200.0</td>\n",
       "      <td>47000000</td>\n",
       "      <td>Jakarta Barat</td>\n",
       "      <td>Unit pucb206</td>\n",
       "      <td>1</td>\n",
       "      <td>0</td>\n",
       "      <td>1</td>\n",
       "      <td>1</td>\n",
       "      <td>1</td>\n",
       "      <td>1</td>\n",
       "      <td>1</td>\n",
       "      <td>0</td>\n",
       "      <td>1</td>\n",
       "      <td>1</td>\n",
       "      <td>1</td>\n",
       "      <td>1</td>\n",
       "      <td>1</td>\n",
       "      <td>1</td>\n",
       "      <td>1</td>\n",
       "      <td>1</td>\n",
       "      <td>0</td>\n",
       "      <td>0</td>\n",
       "      <td>1</td>\n",
       "      <td>1</td>\n",
       "      <td>1</td>\n",
       "      <td>1</td>\n",
       "      <td>1</td>\n",
       "      <td>-6.1674</td>\n",
       "      <td>106.7637</td>\n",
       "    </tr>\n",
       "    <tr>\n",
       "      <th>2360</th>\n",
       "      <td>Madison Park 1BR View kolam berenang</td>\n",
       "      <td>https://jendela360.com/sewa-apartemen-madison-...</td>\n",
       "      <td>1 BR</td>\n",
       "      <td>1</td>\n",
       "      <td>Fully Furnished</td>\n",
       "      <td>25590.0</td>\n",
       "      <td>45000000</td>\n",
       "      <td>Jakarta Barat</td>\n",
       "      <td>Unit mapb040</td>\n",
       "      <td>1</td>\n",
       "      <td>0</td>\n",
       "      <td>1</td>\n",
       "      <td>1</td>\n",
       "      <td>1</td>\n",
       "      <td>1</td>\n",
       "      <td>1</td>\n",
       "      <td>0</td>\n",
       "      <td>1</td>\n",
       "      <td>1</td>\n",
       "      <td>1</td>\n",
       "      <td>1</td>\n",
       "      <td>1</td>\n",
       "      <td>1</td>\n",
       "      <td>1</td>\n",
       "      <td>1</td>\n",
       "      <td>1</td>\n",
       "      <td>0</td>\n",
       "      <td>1</td>\n",
       "      <td>1</td>\n",
       "      <td>1</td>\n",
       "      <td>1</td>\n",
       "      <td>1</td>\n",
       "      <td>-6.1674</td>\n",
       "      <td>106.7637</td>\n",
       "    </tr>\n",
       "    <tr>\n",
       "      <th>4554</th>\n",
       "      <td>Transpark Cibubur Apartment Studio  Furnished</td>\n",
       "      <td>https://jendela360.com/sewa-apartemen-transpar...</td>\n",
       "      <td>Studio</td>\n",
       "      <td>1</td>\n",
       "      <td>Fully Furnished</td>\n",
       "      <td>22752.0</td>\n",
       "      <td>40000000</td>\n",
       "      <td>Depok</td>\n",
       "      <td>Unit trca002</td>\n",
       "      <td>1</td>\n",
       "      <td>0</td>\n",
       "      <td>0</td>\n",
       "      <td>0</td>\n",
       "      <td>1</td>\n",
       "      <td>0</td>\n",
       "      <td>1</td>\n",
       "      <td>0</td>\n",
       "      <td>0</td>\n",
       "      <td>0</td>\n",
       "      <td>0</td>\n",
       "      <td>1</td>\n",
       "      <td>1</td>\n",
       "      <td>0</td>\n",
       "      <td>1</td>\n",
       "      <td>1</td>\n",
       "      <td>1</td>\n",
       "      <td>0</td>\n",
       "      <td>1</td>\n",
       "      <td>1</td>\n",
       "      <td>1</td>\n",
       "      <td>1</td>\n",
       "      <td>1</td>\n",
       "      <td>-6.4025</td>\n",
       "      <td>106.7942</td>\n",
       "    </tr>\n",
       "  </tbody>\n",
       "</table>\n",
       "</div>"
      ],
      "text/plain": [
       "                                full_apartment_name  \\\n",
       "244      Puri Orchard Apartment 1BR Fully Furnished   \n",
       "2360           Madison Park 1BR View kolam berenang   \n",
       "4554  Transpark Cibubur Apartment Studio  Furnished   \n",
       "\n",
       "                                                   link    room bathroom  \\\n",
       "244   https://jendela360.com/sewa-apartemen-puri-orc...    1 BR       1    \n",
       "2360  https://jendela360.com/sewa-apartemen-madison-...    1 BR       1    \n",
       "4554  https://jendela360.com/sewa-apartemen-transpar...  Studio       1    \n",
       "\n",
       "            Furnished     Area  annual_price         region     unit_name  \\\n",
       "244   Fully Furnished  35200.0      47000000  Jakarta Barat  Unit pucb206   \n",
       "2360  Fully Furnished  25590.0      45000000  Jakarta Barat  Unit mapb040   \n",
       "4554  Fully Furnished  22752.0      40000000          Depok  Unit trca002   \n",
       "\n",
       "      atm  basketball_court  cable_tv  function_room  grocery_store  gym  \\\n",
       "244     1                 0         1              1              1    1   \n",
       "2360    1                 0         1              1              1    1   \n",
       "4554    1                 0         0              0              1    0   \n",
       "\n",
       "      internet  jogging_track  swimming_pool  tennis_court  laundry  \\\n",
       "244          1              0              1             1        1   \n",
       "2360         1              0              1             1        1   \n",
       "4554         1              0              0             0        0   \n",
       "\n",
       "      restaurant  security  playground  ac  access_card  water_heater  \\\n",
       "244            1         1           1   1            1             0   \n",
       "2360           1         1           1   1            1             1   \n",
       "4554           1         1           0   1            1             1   \n",
       "\n",
       "      washing_machine  kitchen  dining_set  fridge  bed  tv  Latitude  \\\n",
       "244                 0        1           1       1    1   1   -6.1674   \n",
       "2360                0        1           1       1    1   1   -6.1674   \n",
       "4554                0        1           1       1    1   1   -6.4025   \n",
       "\n",
       "      Longitude  \n",
       "244    106.7637  \n",
       "2360   106.7637  \n",
       "4554   106.7942  "
      ]
     },
     "execution_count": 33,
     "metadata": {},
     "output_type": "execute_result"
    }
   ],
   "source": [
    "df_new[df_new['Area']>5000].head(3)"
   ]
  },
  {
   "cell_type": "markdown",
   "id": "1cfeabc2-0633-488b-a3c3-4d6f1f80921c",
   "metadata": {},
   "source": [
    "- Divide the area more than > 10000 m2 with thousand\n",
    "- Divide the area more than > 1000 m2 with hundred\n"
   ]
  },
  {
   "cell_type": "code",
   "execution_count": 34,
   "id": "628f12ab-b5c1-4cf7-a78d-23b083540ca3",
   "metadata": {},
   "outputs": [],
   "source": [
    "df_new.loc[df_new[df_new['Area']>10000].index,'Area'] = df_new.loc[df_new[df_new['Area']>10000].index,'Area']/1000\n",
    "df_new.loc[df_new[df_new['Area']>1000].index,'Area'] = df_new.loc[df_new[df_new['Area']>1000].index,'Area']/100"
   ]
  },
  {
   "cell_type": "markdown",
   "id": "e198a939-46f2-49d2-890c-f72c86f5e9ff",
   "metadata": {},
   "source": [
    "- Handle outliers, divide area values whose have : 200 m2 < Area < 600 m2 and Annual Price < 2,500,000,000"
   ]
  },
  {
   "cell_type": "code",
   "execution_count": 35,
   "id": "18d6001e-45bb-429f-b953-9592da3af608",
   "metadata": {},
   "outputs": [],
   "source": [
    "df_new.loc[df_new[(df_new.Area<600)&(df_new.Area>200)&(df_new.annual_price<0.25e9)].index,'Area'] = df_new.loc[df_new[(df_new.Area<600)&(df_new.Area>200)&(df_new.annual_price<0.25e9)].index,'Area']/10"
   ]
  },
  {
   "cell_type": "markdown",
   "id": "587b4ab4-8426-48e0-89e2-38b67e0e5f1e",
   "metadata": {},
   "source": [
    "Some of them have annual price in dollar currency. Thus, we have to convert them into Rupiah which **1 dollar** is **Rp14,418.50**\n",
    "- Reference : https://www.bi.go.id/id/statistik/informasi-kurs/transaksi-bi/default.aspx ( 6 January 2022 )"
   ]
  },
  {
   "cell_type": "code",
   "execution_count": 36,
   "id": "ce2131ec-7f40-4e8d-bcae-2b69fb4c4500",
   "metadata": {},
   "outputs": [],
   "source": [
    "df_new.loc[df_new[df_new['annual_price']<100000].index,'annual_price'] = df_new.loc[df_new[df_new['annual_price']<100000].index,'annual_price']*14418.50"
   ]
  },
  {
   "cell_type": "code",
   "execution_count": 37,
   "id": "76507c22-ba5b-46e1-9b2c-fb028bed41b3",
   "metadata": {},
   "outputs": [],
   "source": [
    "df_new = df_new[df_new.Area<400]"
   ]
  },
  {
   "cell_type": "code",
   "execution_count": 38,
   "id": "7ffcf612-cecb-42f7-ae3d-c2e0cf49fc2e",
   "metadata": {},
   "outputs": [],
   "source": [
    "df_new.loc[df_new[(df_new.annual_price>0.5e9)&(df_new.Area<50)].index,'Area'] = df_new[(df_new.annual_price>0.5e9)&(df_new.Area<50)]['Area']*10\n",
    "df_new.drop(index=df_new[(df_new.Area==200)].index.tolist()+df_new[(df_new['Area']>400)].index.tolist(),inplace=True)"
   ]
  },
  {
   "cell_type": "code",
   "execution_count": 39,
   "id": "daa6e270-974a-4a0f-8cb6-056c38f1488c",
   "metadata": {},
   "outputs": [],
   "source": [
    "df_new.loc[df_new[(df_new['Area']>300)&(df_new.annual_price<0.4e9)].index,'Area'] = df_new[(df_new['Area']>300)&(df_new.annual_price<0.4e9)]['Area']/10"
   ]
  },
  {
   "cell_type": "code",
   "execution_count": 40,
   "id": "58d32ad2-27ab-4d0e-ad47-c33be2d03483",
   "metadata": {},
   "outputs": [
    {
     "data": {
      "image/png": "[encoded data removed]",
      "text/plain": [
       "<Figure size 2016x360 with 3 Axes>"
      ]
     },
     "metadata": {
      "needs_background": "light"
     },
     "output_type": "display_data"
    }
   ],
   "source": [
    "plt.figure(figsize=(28,5))\n",
    "for col in range(len(num)):\n",
    "    plt.subplot(1,3,col+1)\n",
    "    sns.scatterplot(df_new[num[col]],'annual_price',data=df_new)"
   ]
  },
  {
   "cell_type": "code",
   "execution_count": 41,
   "id": "9057b32f-3e35-439a-9e2b-b3d74e368f8b",
   "metadata": {},
   "outputs": [],
   "source": [
    "df_new = df_new[df_new.Area>10]"
   ]
  },
  {
   "cell_type": "markdown",
   "id": "47fcc94f-d205-4bfe-b28e-df0e83269479",
   "metadata": {},
   "source": [
    "## Categorical columns"
   ]
  },
  {
   "cell_type": "code",
   "execution_count": 42,
   "id": "a12df030-9f11-4ff4-a39b-a37d8c8ae3be",
   "metadata": {},
   "outputs": [
    {
     "data": {
      "image/png": "[encoded data removed]",
      "text/plain": [
       "<Figure size 1800x720 with 4 Axes>"
      ]
     },
     "metadata": {
      "needs_background": "light"
     },
     "output_type": "display_data"
    }
   ],
   "source": [
    "cat = df_new.select_dtypes('object').drop(['full_apartment_name','unit_name','link'],axis=1).columns\n",
    "\n",
    "plt.figure(figsize=(25,10))\n",
    "for col1 in range(len(cat)):\n",
    "    plt.subplot(2,2,col1+1)\n",
    "    sns.boxplot(df_new[cat[col1]],df_new.annual_price,fliersize=3,linewidth=0.6)"
   ]
  },
  {
   "cell_type": "markdown",
   "id": "08f055fb-7b26-43a3-b6db-fc93b9e8d112",
   "metadata": {},
   "source": [
    "### Bathroom"
   ]
  },
  {
   "cell_type": "markdown",
   "id": "172971c4-e8cc-430f-8d09-74f8586c0a47",
   "metadata": {},
   "source": [
    "- Looks like 0 bathroom type has cheap price. We will change it into 1 bathroom because doesn't make sense if the unit doesn't have the bathroom\n",
    "- Since the 5 and 6 bathrooms only have 2 values and the distribution doesn't look good, we will assign them into 4 bathroom types"
   ]
  },
  {
   "cell_type": "code",
   "execution_count": 43,
   "id": "7b2d130c-18b9-48c7-8424-8ae57feb88ee",
   "metadata": {},
   "outputs": [],
   "source": [
    "df_new.replace({'bathroom':{'1 ':'1',\n",
    "                            '0':'1',\n",
    "                            '5 ':'4 ',\n",
    "                            '6 ':'4 '\n",
    "                           }},inplace=True)"
   ]
  },
  {
   "cell_type": "markdown",
   "id": "0a4e202b-da0e-47a1-b233-22e0448fad1b",
   "metadata": {},
   "source": [
    "### Room"
   ]
  },
  {
   "cell_type": "code",
   "execution_count": 44,
   "id": "8153ebf2-bdd7-4dd3-b84c-a41df558c940",
   "metadata": {},
   "outputs": [],
   "source": [
    "df_new.replace({'room':{'5 BR':'4 BR'}},inplace=True)"
   ]
  },
  {
   "cell_type": "code",
   "execution_count": 45,
   "id": "e18236ce-34ae-43a5-b24d-7132df7cbb3d",
   "metadata": {},
   "outputs": [],
   "source": [
    "# Check 3Br type"
   ]
  },
  {
   "cell_type": "code",
   "execution_count": 46,
   "id": "38853770-a887-425b-bd77-89228cdbebbe",
   "metadata": {},
   "outputs": [],
   "source": [
    "df_new.drop(df_new[(df_new.room=='3 BR')&(df_new.annual_price>0.7e9)].index,inplace=True)\n",
    "df_new.drop(df_new[(df_new.room=='2 BR')&(df_new.annual_price>0.6e9)].index,inplace=True)"
   ]
  },
  {
   "cell_type": "code",
   "execution_count": 47,
   "id": "c378ad76-918f-4753-a40e-8f97a1cc3e8e",
   "metadata": {},
   "outputs": [
    {
     "data": {
      "text/plain": [
       "<AxesSubplot:xlabel='annual_price', ylabel='room'>"
      ]
     },
     "execution_count": 47,
     "metadata": {},
     "output_type": "execute_result"
    },
    {
     "data": {
      "image/png": "[encoded data removed]",
      "text/plain": [
       "<Figure size 1224x360 with 1 Axes>"
      ]
     },
     "metadata": {
      "needs_background": "light"
     },
     "output_type": "display_data"
    }
   ],
   "source": [
    "sns.boxplot(y='room',x='annual_price',data=df_new[df_new.room=='3 BR'],orient='h',fliersize=3,linewidth=0.6)"
   ]
  },
  {
   "cell_type": "code",
   "execution_count": 48,
   "id": "388b8aee-8351-4a4c-9f0b-868f6dbba2d3",
   "metadata": {},
   "outputs": [
    {
     "data": {
      "image/png": "[encoded data removed]",
      "text/plain": [
       "<Figure size 1224x360 with 1 Axes>"
      ]
     },
     "metadata": {
      "needs_background": "light"
     },
     "output_type": "display_data"
    }
   ],
   "source": [
    "sns.barplot('room','annual_price',data=df_new.groupby('room').mean().reset_index(),color='tab:purple')\n",
    "plt.title('Average annual price',size=18,fontweight=550)\n",
    "plt.xlabel('')\n",
    "plt.show()"
   ]
  },
  {
   "cell_type": "markdown",
   "id": "89698a4b-cbe7-4310-a8ce-1e72533cb631",
   "metadata": {},
   "source": [
    "### Region"
   ]
  },
  {
   "cell_type": "markdown",
   "id": "bb6c8f1b-49e7-4596-bcf4-4b0a502e4b5e",
   "metadata": {},
   "source": [
    "Check Bekasi"
   ]
  },
  {
   "cell_type": "code",
   "execution_count": 49,
   "id": "38646b19-a14d-43f6-b437-70038f13baad",
   "metadata": {},
   "outputs": [
    {
     "data": {
      "text/plain": [
       "<AxesSubplot:xlabel='annual_price'>"
      ]
     },
     "execution_count": 49,
     "metadata": {},
     "output_type": "execute_result"
    },
    {
     "data": {
      "image/png": "[encoded data removed]",
      "text/plain": [
       "<Figure size 1224x360 with 1 Axes>"
      ]
     },
     "metadata": {
      "needs_background": "light"
     },
     "output_type": "display_data"
    }
   ],
   "source": [
    "bekasi_new = df_new[df_new.region=='Bekasi']\n",
    "outlier = bekasi_new[bekasi_new.annual_price>1.6e8]\n",
    "sns.boxplot('annual_price',data=bekasi_new.drop(index=outlier.index),fliersize=3,linewidth=0.6)"
   ]
  },
  {
   "cell_type": "code",
   "execution_count": 50,
   "id": "31e33de3-646f-4611-b8aa-4b93ece6dbbf",
   "metadata": {},
   "outputs": [],
   "source": [
    "df_new.drop(index=outlier.index,inplace=True)"
   ]
  },
  {
   "cell_type": "code",
   "execution_count": 51,
   "id": "c745da49-7131-445a-8528-08ea023f7c0a",
   "metadata": {},
   "outputs": [
    {
     "data": {
      "text/html": [
       "<div>\n",
       "<style scoped>\n",
       "    .dataframe tbody tr th:only-of-type {\n",
       "        vertical-align: middle;\n",
       "    }\n",
       "\n",
       "    .dataframe tbody tr th {\n",
       "        vertical-align: top;\n",
       "    }\n",
       "\n",
       "    .dataframe thead th {\n",
       "        text-align: right;\n",
       "    }\n",
       "</style>\n",
       "<table border=\"1\" class=\"dataframe\">\n",
       "  <thead>\n",
       "    <tr style=\"text-align: right;\">\n",
       "      <th></th>\n",
       "      <th>full_apartment_name</th>\n",
       "      <th>link</th>\n",
       "      <th>room</th>\n",
       "      <th>bathroom</th>\n",
       "      <th>Furnished</th>\n",
       "      <th>Area</th>\n",
       "      <th>annual_price</th>\n",
       "      <th>region</th>\n",
       "      <th>unit_name</th>\n",
       "      <th>atm</th>\n",
       "      <th>basketball_court</th>\n",
       "      <th>cable_tv</th>\n",
       "      <th>function_room</th>\n",
       "      <th>grocery_store</th>\n",
       "      <th>gym</th>\n",
       "      <th>internet</th>\n",
       "      <th>jogging_track</th>\n",
       "      <th>swimming_pool</th>\n",
       "      <th>tennis_court</th>\n",
       "      <th>laundry</th>\n",
       "      <th>restaurant</th>\n",
       "      <th>security</th>\n",
       "      <th>playground</th>\n",
       "      <th>ac</th>\n",
       "      <th>access_card</th>\n",
       "      <th>water_heater</th>\n",
       "      <th>washing_machine</th>\n",
       "      <th>kitchen</th>\n",
       "      <th>dining_set</th>\n",
       "      <th>fridge</th>\n",
       "      <th>bed</th>\n",
       "      <th>tv</th>\n",
       "      <th>Latitude</th>\n",
       "      <th>Longitude</th>\n",
       "    </tr>\n",
       "  </thead>\n",
       "  <tbody>\n",
       "    <tr>\n",
       "      <th>0</th>\n",
       "      <td>Thamrin Executive Residence 1BR View City</td>\n",
       "      <td>https://jendela360.com/sewa-apartemen-thamrin-...</td>\n",
       "      <td>1 BR</td>\n",
       "      <td>1</td>\n",
       "      <td>Fully Furnished</td>\n",
       "      <td>42.00</td>\n",
       "      <td>90000000.0</td>\n",
       "      <td>Jakarta Pusat</td>\n",
       "      <td>Unit terb001</td>\n",
       "      <td>1</td>\n",
       "      <td>1</td>\n",
       "      <td>1</td>\n",
       "      <td>1</td>\n",
       "      <td>1</td>\n",
       "      <td>1</td>\n",
       "      <td>1</td>\n",
       "      <td>1</td>\n",
       "      <td>1</td>\n",
       "      <td>0</td>\n",
       "      <td>1</td>\n",
       "      <td>1</td>\n",
       "      <td>1</td>\n",
       "      <td>1</td>\n",
       "      <td>1</td>\n",
       "      <td>1</td>\n",
       "      <td>1</td>\n",
       "      <td>0</td>\n",
       "      <td>1</td>\n",
       "      <td>1</td>\n",
       "      <td>1</td>\n",
       "      <td>1</td>\n",
       "      <td>1</td>\n",
       "      <td>-6.180500</td>\n",
       "      <td>106.8284</td>\n",
       "    </tr>\n",
       "    <tr>\n",
       "      <th>1</th>\n",
       "      <td>Puri Orchard Apartment 1BR Non Furnished</td>\n",
       "      <td>https://jendela360.com/sewa-apartemen-puri-orc...</td>\n",
       "      <td>1 BR</td>\n",
       "      <td>1</td>\n",
       "      <td>Non Furnished</td>\n",
       "      <td>35.00</td>\n",
       "      <td>44000000.0</td>\n",
       "      <td>Jakarta Barat</td>\n",
       "      <td>Unit pucb172</td>\n",
       "      <td>1</td>\n",
       "      <td>0</td>\n",
       "      <td>1</td>\n",
       "      <td>1</td>\n",
       "      <td>1</td>\n",
       "      <td>1</td>\n",
       "      <td>1</td>\n",
       "      <td>0</td>\n",
       "      <td>1</td>\n",
       "      <td>1</td>\n",
       "      <td>1</td>\n",
       "      <td>1</td>\n",
       "      <td>1</td>\n",
       "      <td>1</td>\n",
       "      <td>1</td>\n",
       "      <td>1</td>\n",
       "      <td>0</td>\n",
       "      <td>0</td>\n",
       "      <td>1</td>\n",
       "      <td>1</td>\n",
       "      <td>0</td>\n",
       "      <td>1</td>\n",
       "      <td>0</td>\n",
       "      <td>-6.167400</td>\n",
       "      <td>106.7637</td>\n",
       "    </tr>\n",
       "    <tr>\n",
       "      <th>2</th>\n",
       "      <td>Bassura City Apartment 2BR View City</td>\n",
       "      <td>https://jendela360.com/sewa-apartemen-bassura-...</td>\n",
       "      <td>2 BR</td>\n",
       "      <td>1</td>\n",
       "      <td>Fully Furnished</td>\n",
       "      <td>54.00</td>\n",
       "      <td>70000000.0</td>\n",
       "      <td>Jakarta Timur</td>\n",
       "      <td>Unit bscc469</td>\n",
       "      <td>1</td>\n",
       "      <td>0</td>\n",
       "      <td>1</td>\n",
       "      <td>1</td>\n",
       "      <td>1</td>\n",
       "      <td>1</td>\n",
       "      <td>1</td>\n",
       "      <td>0</td>\n",
       "      <td>1</td>\n",
       "      <td>0</td>\n",
       "      <td>1</td>\n",
       "      <td>1</td>\n",
       "      <td>1</td>\n",
       "      <td>1</td>\n",
       "      <td>1</td>\n",
       "      <td>0</td>\n",
       "      <td>1</td>\n",
       "      <td>0</td>\n",
       "      <td>1</td>\n",
       "      <td>1</td>\n",
       "      <td>1</td>\n",
       "      <td>1</td>\n",
       "      <td>1</td>\n",
       "      <td>-6.225014</td>\n",
       "      <td>106.9004</td>\n",
       "    </tr>\n",
       "    <tr>\n",
       "      <th>3</th>\n",
       "      <td>Puri Park View Apartment Studio Fully Furnished</td>\n",
       "      <td>https://jendela360.com/sewa-apartemen-puri-par...</td>\n",
       "      <td>Studio</td>\n",
       "      <td>1</td>\n",
       "      <td>Fully Furnished</td>\n",
       "      <td>24.00</td>\n",
       "      <td>25000000.0</td>\n",
       "      <td>Jakarta Barat</td>\n",
       "      <td>Unit ppva064</td>\n",
       "      <td>1</td>\n",
       "      <td>0</td>\n",
       "      <td>1</td>\n",
       "      <td>1</td>\n",
       "      <td>1</td>\n",
       "      <td>1</td>\n",
       "      <td>1</td>\n",
       "      <td>1</td>\n",
       "      <td>1</td>\n",
       "      <td>0</td>\n",
       "      <td>1</td>\n",
       "      <td>1</td>\n",
       "      <td>1</td>\n",
       "      <td>1</td>\n",
       "      <td>1</td>\n",
       "      <td>1</td>\n",
       "      <td>1</td>\n",
       "      <td>0</td>\n",
       "      <td>1</td>\n",
       "      <td>1</td>\n",
       "      <td>1</td>\n",
       "      <td>1</td>\n",
       "      <td>1</td>\n",
       "      <td>-6.167400</td>\n",
       "      <td>106.7637</td>\n",
       "    </tr>\n",
       "    <tr>\n",
       "      <th>4</th>\n",
       "      <td>Puri Orchard Apartment Studio Non Furnished</td>\n",
       "      <td>https://jendela360.com/sewa-apartemen-puri-orc...</td>\n",
       "      <td>Studio</td>\n",
       "      <td>1</td>\n",
       "      <td>Semi Furnished</td>\n",
       "      <td>26.00</td>\n",
       "      <td>24000000.0</td>\n",
       "      <td>Jakarta Barat</td>\n",
       "      <td>Unit puca086</td>\n",
       "      <td>1</td>\n",
       "      <td>0</td>\n",
       "      <td>1</td>\n",
       "      <td>1</td>\n",
       "      <td>1</td>\n",
       "      <td>1</td>\n",
       "      <td>1</td>\n",
       "      <td>0</td>\n",
       "      <td>1</td>\n",
       "      <td>1</td>\n",
       "      <td>1</td>\n",
       "      <td>1</td>\n",
       "      <td>1</td>\n",
       "      <td>1</td>\n",
       "      <td>1</td>\n",
       "      <td>1</td>\n",
       "      <td>0</td>\n",
       "      <td>0</td>\n",
       "      <td>0</td>\n",
       "      <td>0</td>\n",
       "      <td>0</td>\n",
       "      <td>0</td>\n",
       "      <td>0</td>\n",
       "      <td>-6.167400</td>\n",
       "      <td>106.7637</td>\n",
       "    </tr>\n",
       "    <tr>\n",
       "      <th>...</th>\n",
       "      <td>...</td>\n",
       "      <td>...</td>\n",
       "      <td>...</td>\n",
       "      <td>...</td>\n",
       "      <td>...</td>\n",
       "      <td>...</td>\n",
       "      <td>...</td>\n",
       "      <td>...</td>\n",
       "      <td>...</td>\n",
       "      <td>...</td>\n",
       "      <td>...</td>\n",
       "      <td>...</td>\n",
       "      <td>...</td>\n",
       "      <td>...</td>\n",
       "      <td>...</td>\n",
       "      <td>...</td>\n",
       "      <td>...</td>\n",
       "      <td>...</td>\n",
       "      <td>...</td>\n",
       "      <td>...</td>\n",
       "      <td>...</td>\n",
       "      <td>...</td>\n",
       "      <td>...</td>\n",
       "      <td>...</td>\n",
       "      <td>...</td>\n",
       "      <td>...</td>\n",
       "      <td>...</td>\n",
       "      <td>...</td>\n",
       "      <td>...</td>\n",
       "      <td>...</td>\n",
       "      <td>...</td>\n",
       "      <td>...</td>\n",
       "      <td>...</td>\n",
       "      <td>...</td>\n",
       "    </tr>\n",
       "    <tr>\n",
       "      <th>7447</th>\n",
       "      <td>Bassura City Apartment 2BR Fully Furnished</td>\n",
       "      <td>https://jendela360.com/sewa-apartemen-bassura-...</td>\n",
       "      <td>2 BR</td>\n",
       "      <td>1</td>\n",
       "      <td>Fully Furnished</td>\n",
       "      <td>48.00</td>\n",
       "      <td>58800000.0</td>\n",
       "      <td>Jakarta Timur</td>\n",
       "      <td>Unit bscc484</td>\n",
       "      <td>1</td>\n",
       "      <td>0</td>\n",
       "      <td>1</td>\n",
       "      <td>1</td>\n",
       "      <td>1</td>\n",
       "      <td>1</td>\n",
       "      <td>1</td>\n",
       "      <td>0</td>\n",
       "      <td>1</td>\n",
       "      <td>0</td>\n",
       "      <td>1</td>\n",
       "      <td>1</td>\n",
       "      <td>1</td>\n",
       "      <td>1</td>\n",
       "      <td>1</td>\n",
       "      <td>1</td>\n",
       "      <td>0</td>\n",
       "      <td>0</td>\n",
       "      <td>1</td>\n",
       "      <td>0</td>\n",
       "      <td>1</td>\n",
       "      <td>1</td>\n",
       "      <td>1</td>\n",
       "      <td>-6.225014</td>\n",
       "      <td>106.9004</td>\n",
       "    </tr>\n",
       "    <tr>\n",
       "      <th>7448</th>\n",
       "      <td>Sky House BSD Apartment Studio Non Furnished</td>\n",
       "      <td>https://jendela360.com/sewa-apartemen-sky-hous...</td>\n",
       "      <td>Studio</td>\n",
       "      <td>1</td>\n",
       "      <td>Fully Furnished</td>\n",
       "      <td>20.00</td>\n",
       "      <td>35300000.0</td>\n",
       "      <td>Tangerang</td>\n",
       "      <td>Unit skha016</td>\n",
       "      <td>1</td>\n",
       "      <td>0</td>\n",
       "      <td>0</td>\n",
       "      <td>1</td>\n",
       "      <td>1</td>\n",
       "      <td>1</td>\n",
       "      <td>1</td>\n",
       "      <td>1</td>\n",
       "      <td>1</td>\n",
       "      <td>0</td>\n",
       "      <td>1</td>\n",
       "      <td>0</td>\n",
       "      <td>1</td>\n",
       "      <td>1</td>\n",
       "      <td>1</td>\n",
       "      <td>1</td>\n",
       "      <td>0</td>\n",
       "      <td>0</td>\n",
       "      <td>0</td>\n",
       "      <td>0</td>\n",
       "      <td>0</td>\n",
       "      <td>0</td>\n",
       "      <td>0</td>\n",
       "      <td>-6.170200</td>\n",
       "      <td>106.6403</td>\n",
       "    </tr>\n",
       "    <tr>\n",
       "      <th>7449</th>\n",
       "      <td>Green Park View Apartment Studio Tower G</td>\n",
       "      <td>https://jendela360.com/sewa-apartemen-green-pa...</td>\n",
       "      <td>Studio</td>\n",
       "      <td>1</td>\n",
       "      <td>Fully Furnished</td>\n",
       "      <td>23.75</td>\n",
       "      <td>20000000.0</td>\n",
       "      <td>Jakarta Barat</td>\n",
       "      <td>Unit gpva032</td>\n",
       "      <td>1</td>\n",
       "      <td>1</td>\n",
       "      <td>1</td>\n",
       "      <td>1</td>\n",
       "      <td>1</td>\n",
       "      <td>1</td>\n",
       "      <td>1</td>\n",
       "      <td>0</td>\n",
       "      <td>1</td>\n",
       "      <td>0</td>\n",
       "      <td>1</td>\n",
       "      <td>1</td>\n",
       "      <td>1</td>\n",
       "      <td>1</td>\n",
       "      <td>1</td>\n",
       "      <td>0</td>\n",
       "      <td>1</td>\n",
       "      <td>0</td>\n",
       "      <td>1</td>\n",
       "      <td>1</td>\n",
       "      <td>0</td>\n",
       "      <td>1</td>\n",
       "      <td>0</td>\n",
       "      <td>-6.167400</td>\n",
       "      <td>106.7637</td>\n",
       "    </tr>\n",
       "    <tr>\n",
       "      <th>7450</th>\n",
       "      <td>The Mansion Kemayoran Jasmine 2BR Non Furnished</td>\n",
       "      <td>https://jendela360.com/sewa-apartemen-the-mans...</td>\n",
       "      <td>2 BR</td>\n",
       "      <td>1</td>\n",
       "      <td>Non Furnished</td>\n",
       "      <td>70.00</td>\n",
       "      <td>55000000.0</td>\n",
       "      <td>Jakarta Pusat</td>\n",
       "      <td>Unit tmjc012</td>\n",
       "      <td>1</td>\n",
       "      <td>0</td>\n",
       "      <td>1</td>\n",
       "      <td>1</td>\n",
       "      <td>1</td>\n",
       "      <td>1</td>\n",
       "      <td>1</td>\n",
       "      <td>1</td>\n",
       "      <td>1</td>\n",
       "      <td>0</td>\n",
       "      <td>1</td>\n",
       "      <td>1</td>\n",
       "      <td>1</td>\n",
       "      <td>1</td>\n",
       "      <td>1</td>\n",
       "      <td>0</td>\n",
       "      <td>0</td>\n",
       "      <td>0</td>\n",
       "      <td>0</td>\n",
       "      <td>0</td>\n",
       "      <td>0</td>\n",
       "      <td>0</td>\n",
       "      <td>0</td>\n",
       "      <td>-6.180500</td>\n",
       "      <td>106.8284</td>\n",
       "    </tr>\n",
       "    <tr>\n",
       "      <th>7451</th>\n",
       "      <td>Kuningan City (Denpasar Residence) 2BR Fully F...</td>\n",
       "      <td>https://jendela360.com/sewa-apartemen-kuningan...</td>\n",
       "      <td>2 BR</td>\n",
       "      <td>2</td>\n",
       "      <td>Fully Furnished</td>\n",
       "      <td>90.00</td>\n",
       "      <td>155000000.0</td>\n",
       "      <td>Jakarta Selatan</td>\n",
       "      <td>Unit kucc012</td>\n",
       "      <td>1</td>\n",
       "      <td>1</td>\n",
       "      <td>1</td>\n",
       "      <td>1</td>\n",
       "      <td>1</td>\n",
       "      <td>1</td>\n",
       "      <td>1</td>\n",
       "      <td>1</td>\n",
       "      <td>1</td>\n",
       "      <td>1</td>\n",
       "      <td>1</td>\n",
       "      <td>1</td>\n",
       "      <td>1</td>\n",
       "      <td>1</td>\n",
       "      <td>1</td>\n",
       "      <td>1</td>\n",
       "      <td>1</td>\n",
       "      <td>1</td>\n",
       "      <td>1</td>\n",
       "      <td>1</td>\n",
       "      <td>1</td>\n",
       "      <td>1</td>\n",
       "      <td>1</td>\n",
       "      <td>-6.261493</td>\n",
       "      <td>106.8106</td>\n",
       "    </tr>\n",
       "  </tbody>\n",
       "</table>\n",
       "<p>7356 rows × 34 columns</p>\n",
       "</div>"
      ],
      "text/plain": [
       "                                    full_apartment_name  \\\n",
       "0             Thamrin Executive Residence 1BR View City   \n",
       "1              Puri Orchard Apartment 1BR Non Furnished   \n",
       "2                  Bassura City Apartment 2BR View City   \n",
       "3       Puri Park View Apartment Studio Fully Furnished   \n",
       "4           Puri Orchard Apartment Studio Non Furnished   \n",
       "...                                                 ...   \n",
       "7447         Bassura City Apartment 2BR Fully Furnished   \n",
       "7448       Sky House BSD Apartment Studio Non Furnished   \n",
       "7449           Green Park View Apartment Studio Tower G   \n",
       "7450    The Mansion Kemayoran Jasmine 2BR Non Furnished   \n",
       "7451  Kuningan City (Denpasar Residence) 2BR Fully F...   \n",
       "\n",
       "                                                   link    room bathroom  \\\n",
       "0     https://jendela360.com/sewa-apartemen-thamrin-...    1 BR        1   \n",
       "1     https://jendela360.com/sewa-apartemen-puri-orc...    1 BR        1   \n",
       "2     https://jendela360.com/sewa-apartemen-bassura-...    2 BR        1   \n",
       "3     https://jendela360.com/sewa-apartemen-puri-par...  Studio        1   \n",
       "4     https://jendela360.com/sewa-apartemen-puri-orc...  Studio        1   \n",
       "...                                                 ...     ...      ...   \n",
       "7447  https://jendela360.com/sewa-apartemen-bassura-...    2 BR        1   \n",
       "7448  https://jendela360.com/sewa-apartemen-sky-hous...  Studio        1   \n",
       "7449  https://jendela360.com/sewa-apartemen-green-pa...  Studio        1   \n",
       "7450  https://jendela360.com/sewa-apartemen-the-mans...    2 BR        1   \n",
       "7451  https://jendela360.com/sewa-apartemen-kuningan...    2 BR       2    \n",
       "\n",
       "            Furnished   Area  annual_price           region     unit_name  \\\n",
       "0     Fully Furnished  42.00    90000000.0    Jakarta Pusat  Unit terb001   \n",
       "1       Non Furnished  35.00    44000000.0    Jakarta Barat  Unit pucb172   \n",
       "2     Fully Furnished  54.00    70000000.0    Jakarta Timur  Unit bscc469   \n",
       "3     Fully Furnished  24.00    25000000.0    Jakarta Barat  Unit ppva064   \n",
       "4      Semi Furnished  26.00    24000000.0    Jakarta Barat  Unit puca086   \n",
       "...               ...    ...           ...              ...           ...   \n",
       "7447  Fully Furnished  48.00    58800000.0    Jakarta Timur  Unit bscc484   \n",
       "7448  Fully Furnished  20.00    35300000.0        Tangerang  Unit skha016   \n",
       "7449  Fully Furnished  23.75    20000000.0    Jakarta Barat  Unit gpva032   \n",
       "7450    Non Furnished  70.00    55000000.0    Jakarta Pusat  Unit tmjc012   \n",
       "7451  Fully Furnished  90.00   155000000.0  Jakarta Selatan  Unit kucc012   \n",
       "\n",
       "      atm  basketball_court  cable_tv  function_room  grocery_store  gym  \\\n",
       "0       1                 1         1              1              1    1   \n",
       "1       1                 0         1              1              1    1   \n",
       "2       1                 0         1              1              1    1   \n",
       "3       1                 0         1              1              1    1   \n",
       "4       1                 0         1              1              1    1   \n",
       "...   ...               ...       ...            ...            ...  ...   \n",
       "7447    1                 0         1              1              1    1   \n",
       "7448    1                 0         0              1              1    1   \n",
       "7449    1                 1         1              1              1    1   \n",
       "7450    1                 0         1              1              1    1   \n",
       "7451    1                 1         1              1              1    1   \n",
       "\n",
       "      internet  jogging_track  swimming_pool  tennis_court  laundry  \\\n",
       "0            1              1              1             0        1   \n",
       "1            1              0              1             1        1   \n",
       "2            1              0              1             0        1   \n",
       "3            1              1              1             0        1   \n",
       "4            1              0              1             1        1   \n",
       "...        ...            ...            ...           ...      ...   \n",
       "7447         1              0              1             0        1   \n",
       "7448         1              1              1             0        1   \n",
       "7449         1              0              1             0        1   \n",
       "7450         1              1              1             0        1   \n",
       "7451         1              1              1             1        1   \n",
       "\n",
       "      restaurant  security  playground  ac  access_card  water_heater  \\\n",
       "0              1         1           1   1            1             1   \n",
       "1              1         1           1   1            1             0   \n",
       "2              1         1           1   1            0             1   \n",
       "3              1         1           1   1            1             1   \n",
       "4              1         1           1   1            1             0   \n",
       "...          ...       ...         ...  ..          ...           ...   \n",
       "7447           1         1           1   1            1             0   \n",
       "7448           0         1           1   1            1             0   \n",
       "7449           1         1           1   1            0             1   \n",
       "7450           1         1           1   1            0             0   \n",
       "7451           1         1           1   1            1             1   \n",
       "\n",
       "      washing_machine  kitchen  dining_set  fridge  bed  tv  Latitude  \\\n",
       "0                   0        1           1       1    1   1 -6.180500   \n",
       "1                   0        1           1       0    1   0 -6.167400   \n",
       "2                   0        1           1       1    1   1 -6.225014   \n",
       "3                   0        1           1       1    1   1 -6.167400   \n",
       "4                   0        0           0       0    0   0 -6.167400   \n",
       "...               ...      ...         ...     ...  ...  ..       ...   \n",
       "7447                0        1           0       1    1   1 -6.225014   \n",
       "7448                0        0           0       0    0   0 -6.170200   \n",
       "7449                0        1           1       0    1   0 -6.167400   \n",
       "7450                0        0           0       0    0   0 -6.180500   \n",
       "7451                1        1           1       1    1   1 -6.261493   \n",
       "\n",
       "      Longitude  \n",
       "0      106.8284  \n",
       "1      106.7637  \n",
       "2      106.9004  \n",
       "3      106.7637  \n",
       "4      106.7637  \n",
       "...         ...  \n",
       "7447   106.9004  \n",
       "7448   106.6403  \n",
       "7449   106.7637  \n",
       "7450   106.8284  \n",
       "7451   106.8106  \n",
       "\n",
       "[7356 rows x 34 columns]"
      ]
     },
     "execution_count": 51,
     "metadata": {},
     "output_type": "execute_result"
    }
   ],
   "source": [
    "df_new"
   ]
  },
  {
   "cell_type": "markdown",
   "id": "1e3cc8d9-7535-4c6e-aeb6-4331077453d6",
   "metadata": {},
   "source": [
    "# Facilities"
   ]
  },
  {
   "cell_type": "code",
   "execution_count": 52,
   "id": "2c20c02a-2fbc-4bbe-ae85-c1569b33217b",
   "metadata": {},
   "outputs": [
    {
     "data": {
      "image/png": "[encoded data removed]",
      "text/plain": [
       "<Figure size 1728x1080 with 23 Axes>"
      ]
     },
     "metadata": {
      "needs_background": "light"
     },
     "output_type": "display_data"
    }
   ],
   "source": [
    "col_encoded = df_new.iloc[:,9:-2].columns.tolist()\n",
    "plt.figure(figsize=(24,15))\n",
    "for col2 in range(len(col_encoded)):\n",
    "    plt.subplot(4,6,col2+1)\n",
    "    sns.boxplot(df_new[col_encoded[col2]],df_new.annual_price,fliersize=3,linewidth=0.6)\n",
    "    plt.ylabel('')"
   ]
  },
  {
   "cell_type": "markdown",
   "id": "7e2ad47d-1681-4250-95e7-d6f511762862",
   "metadata": {},
   "source": [
    "**Remove outliers**"
   ]
  },
  {
   "cell_type": "markdown",
   "id": "c64e8256-30d2-4cdb-b127-1eb4b52abca6",
   "metadata": {},
   "source": [
    "Since the outliers are not a lot, I prefer to remove them manually so that the distribution is more controlled and suitable with my preference"
   ]
  },
  {
   "cell_type": "code",
   "execution_count": 53,
   "id": "aa322008-26d7-4692-9ddd-c1b742dc6f2f",
   "metadata": {},
   "outputs": [],
   "source": [
    "df_new1 = df_new.copy()\n",
    "df_new1.drop(index=df_new1[(df_new1.kitchen==0)&(df_new1.annual_price>4e8)].index,inplace=True)\n",
    "df_new1.drop(index=df_new1[(df_new1.gym==0)&(df_new1.annual_price>4e8)].index,inplace=True)\n",
    "df_new1.drop(index=df_new1[(df_new1.internet==0)&(df_new1.annual_price>4e8)].index,inplace=True)\n",
    "df_new1.drop(index=df_new1[(df_new1.cable_tv==0)&(df_new1.annual_price>4e8)].index,inplace=True)\n",
    "df_new1.drop(index=df_new1[(df_new1.function_room==0)&(df_new1.annual_price>4e8)].index,inplace=True)\n",
    "df_new1.drop(index=df_new1[(df_new1.atm==1)&(df_new1.annual_price>758599000)].index,inplace=True)\n",
    "df_new1.drop(index=df_new1[(df_new1.tv==0)&(df_new1.annual_price>4e8)].index,inplace=True)\n",
    "df_new1.drop(index=df_new1[(df_new1.fridge==0)&(df_new1.annual_price>4e8)].index,inplace=True)\n",
    "df_new1.drop(index=df_new1[(df_new1.swimming_pool==0)&(df_new1.annual_price>2e8)].index,inplace=True)\n",
    "df_new1.drop(index=df_new1[(df_new1.grocery_store==0)&(df_new1.annual_price>4e8)].index,inplace=True)\n",
    "df_new1.drop(index=df_new1[(df_new1.laundry==0)&(df_new1.annual_price>4e8)].index,inplace=True)\n",
    "df_new1.drop(index=df_new1[(df_new1.washing_machine==0)&(df_new1.annual_price>4.5e8)].index,inplace=True)\n",
    "df_new1.drop(index=df_new1[(df_new1.access_card==0)&(df_new1.annual_price>4e8)].index,inplace=True)\n",
    "df_new1.drop(index=df_new1[(df_new1.water_heater==0)&(df_new1.annual_price>=4e8)].index,inplace=True)\n",
    "df_new1.drop(index=df_new1[(df_new1.bed==0)&(df_new1.annual_price>=3.8e8)].index,inplace=True)\n",
    "df_new1.drop(index=df_new1[(df_new1.dining_set==0)&(df_new1.annual_price>=3.9e8)].index,inplace=True)\n",
    "df_new1.drop(index=df_new1[(df_new1.playground==0)&(df_new1.annual_price>=3.2e8)].index,inplace=True)"
   ]
  },
  {
   "cell_type": "code",
   "execution_count": 54,
   "id": "623ef2a0-4028-4b14-a3fd-abc895a36d20",
   "metadata": {},
   "outputs": [
    {
     "data": {
      "image/png": "[encoded data removed]",
      "text/plain": [
       "<Figure size 1728x1080 with 23 Axes>"
      ]
     },
     "metadata": {
      "needs_background": "light"
     },
     "output_type": "display_data"
    }
   ],
   "source": [
    "col_encoded = df_new1.iloc[:,9:-2].columns.tolist()\n",
    "plt.figure(figsize=(24,15))\n",
    "for col2 in range(len(col_encoded)):\n",
    "    plt.subplot(4,6,col2+1)\n",
    "    sns.boxplot(df_new1[col_encoded[col2]],df_new1.annual_price,fliersize=3,linewidth=0.6)\n",
    "    plt.ylabel('')"
   ]
  },
  {
   "cell_type": "code",
   "execution_count": 55,
   "id": "1dbe0468-2b23-4e30-9006-401659f45f3c",
   "metadata": {},
   "outputs": [],
   "source": [
    "df_new1.to_csv('D:/Data/apartment/fr/cleaned_1.csv',index=False)"
   ]
  },
  {
   "cell_type": "code",
   "execution_count": null,
   "id": "aa55b430-3e53-4d5d-b77a-dff6f1c9d189",
   "metadata": {},
   "outputs": [],
   "source": []
  }
 ],
 "metadata": {
  "kernelspec": {
   "display_name": "Python 3 (ipykernel)",
   "language": "python",
   "name": "python3"
  },
  "language_info": {
   "codemirror_mode": {
    "name": "ipython",
    "version": 3
   },
   "file_extension": ".py",
   "mimetype": "text/x-python",
   "name": "python",
   "nbconvert_exporter": "python",
   "pygments_lexer": "ipython3",
   "version": "3.9.6"
  }
 },
 "nbformat": 4,
 "nbformat_minor": 5
}
